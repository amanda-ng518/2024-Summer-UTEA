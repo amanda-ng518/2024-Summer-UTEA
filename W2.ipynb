{
 "cells": [
  {
   "cell_type": "code",
   "execution_count": 414,
   "id": "144f7ca4",
   "metadata": {},
   "outputs": [],
   "source": [
    "# Load package\n",
    "import numpy as np; from scipy import stats; import matplotlib.pyplot as plt; import pymc as pm;import arviz as az; \n",
    "import math; import pandas as pd"
   ]
  },
  {
   "cell_type": "markdown",
   "id": "31a88733",
   "metadata": {},
   "source": [
    "# Task 1: Real data set example "
   ]
  },
  {
   "cell_type": "markdown",
   "id": "23066f37",
   "metadata": {},
   "source": [
    "Replicate application in section 5 from O. Fonseca, T. C., R. Ferreira, M. A., & Migon, H. S. (2014). Objective Bayesian analysis for the Student-t regression model. Biometrika, 101(1), 252–252. https://doi.org/10.1093/biomet/asu001"
   ]
  },
  {
   "cell_type": "code",
   "execution_count": 3,
   "id": "a17163d1",
   "metadata": {},
   "outputs": [
    {
     "name": "stdout",
     "output_type": "stream",
     "text": [
      "   Unnamed: 0  Expenditure  Income\n",
      "0     Alabama          275    6247\n",
      "1      Alaska          821   10851\n",
      "2     Arizona          339    7374\n",
      "3    Arkansas          275    6183\n",
      "4  California          387    8850\n"
     ]
    }
   ],
   "source": [
    "# Load data\n",
    "data = pd.read_csv('PublicSchools.csv')\n",
    "print(data.head())"
   ]
  },
  {
   "cell_type": "code",
   "execution_count": 4,
   "id": "e7d05d24",
   "metadata": {},
   "outputs": [],
   "source": [
    "# Extract data in vector form\n",
    "\n",
    "# Predictors\n",
    "X1 = data['Income'] # Linear \n",
    "X2 = data['Income']^(2) # Quadratic\n",
    "\n",
    "# Outcome\n",
    "true_y = data['Expenditure']\n",
    "\n",
    "# Sample size = 50\n",
    "n = 50"
   ]
  },
  {
   "cell_type": "markdown",
   "id": "b8307a4b",
   "metadata": {},
   "source": [
    "## Geweke's lamda = 0.1, Linear model"
   ]
  },
  {
   "cell_type": "code",
   "execution_count": 26,
   "id": "7af825f6",
   "metadata": {},
   "outputs": [],
   "source": [
    "# Log probability of sigma prior: pdf = 1/x\n",
    "def logsig(x):\n",
    "    return -np.log(x)"
   ]
  },
  {
   "cell_type": "code",
   "execution_count": 29,
   "id": "cd520cc9",
   "metadata": {},
   "outputs": [
    {
     "name": "stderr",
     "output_type": "stream",
     "text": [
      "Auto-assigning NUTS sampler...\n",
      "Initializing NUTS using jitter+adapt_diag...\n",
      "Multiprocess sampling (4 chains in 4 jobs)\n",
      "NUTS: [nu, sigma, intercept, beta_1]\n"
     ]
    },
    {
     "data": {
      "text/html": [
       "\n",
       "<style>\n",
       "    /* Turns off some styling */\n",
       "    progress {\n",
       "        /* gets rid of default border in Firefox and Opera. */\n",
       "        border: none;\n",
       "        /* Needs to be in here for Safari polyfill so background images work as expected. */\n",
       "        background-size: auto;\n",
       "    }\n",
       "    progress:not([value]), progress:not([value])::-webkit-progress-bar {\n",
       "        background: repeating-linear-gradient(45deg, #7e7e7e, #7e7e7e 10px, #5c5c5c 10px, #5c5c5c 20px);\n",
       "    }\n",
       "    .progress-bar-interrupted, .progress-bar-interrupted::-webkit-progress-bar {\n",
       "        background: #F44336;\n",
       "    }\n",
       "</style>\n"
      ],
      "text/plain": [
       "<IPython.core.display.HTML object>"
      ]
     },
     "metadata": {},
     "output_type": "display_data"
    },
    {
     "data": {
      "text/html": [
       "\n",
       "    <div>\n",
       "      <progress value='8000' class='' max='8000' style='width:300px; height:20px; vertical-align: middle;'></progress>\n",
       "      100.00% [8000/8000 00:09&lt;00:00 Sampling 4 chains, 0 divergences]\n",
       "    </div>\n",
       "    "
      ],
      "text/plain": [
       "<IPython.core.display.HTML object>"
      ]
     },
     "metadata": {},
     "output_type": "display_data"
    },
    {
     "name": "stderr",
     "output_type": "stream",
     "text": [
      "Sampling 4 chains for 1_000 tune and 1_000 draw iterations (4_000 + 4_000 draws total) took 9 seconds.\n"
     ]
    }
   ],
   "source": [
    "model_0_1 = pm.Model()\n",
    "\n",
    "with model_0_1:\n",
    "    # Geweke prior on nu with lamda = 0.1\n",
    "    nu = pm.Exponential('nu', lam = 0.1)\n",
    "    \n",
    "    # sigma prior 1/x\n",
    "    sigma = pm.CustomDist('sigma',logp=logsig)\n",
    "    \n",
    "    # Flat prior on betas\n",
    "    intercept = pm.Flat('intercept')\n",
    "    beta_1 = pm.Flat('beta_1')\n",
    "    \n",
    "    # Linear combination of beta and x\n",
    "    mu = pm.Deterministic('mu', intercept + beta_1*X1)\n",
    "\n",
    "    # T regression likelihood\n",
    "    y = pm.StudentT('y', nu = nu, mu = mu, sigma = sigma, shape = n, observed = true_y)\n",
    "\n",
    "    idata = pm.sample()"
   ]
  },
  {
   "cell_type": "code",
   "execution_count": 80,
   "id": "7db014c3",
   "metadata": {},
   "outputs": [
    {
     "name": "stdout",
     "output_type": "stream",
     "text": [
      "number of MCMC samples: 4000\n"
     ]
    },
    {
     "data": {
      "text/html": [
       "<div>\n",
       "<style scoped>\n",
       "    .dataframe tbody tr th:only-of-type {\n",
       "        vertical-align: middle;\n",
       "    }\n",
       "\n",
       "    .dataframe tbody tr th {\n",
       "        vertical-align: top;\n",
       "    }\n",
       "\n",
       "    .dataframe thead th {\n",
       "        text-align: right;\n",
       "    }\n",
       "</style>\n",
       "<table border=\"1\" class=\"dataframe\">\n",
       "  <thead>\n",
       "    <tr style=\"text-align: right;\">\n",
       "      <th></th>\n",
       "      <th>median</th>\n",
       "      <th>mad</th>\n",
       "      <th>eti_3%</th>\n",
       "      <th>eti_97%</th>\n",
       "      <th>mcse_median</th>\n",
       "      <th>ess_median</th>\n",
       "      <th>ess_tail</th>\n",
       "      <th>r_hat</th>\n",
       "    </tr>\n",
       "  </thead>\n",
       "  <tbody>\n",
       "    <tr>\n",
       "      <th>nu</th>\n",
       "      <td>6.18</td>\n",
       "      <td>2.37</td>\n",
       "      <td>2.31</td>\n",
       "      <td>22.87</td>\n",
       "      <td>0.10</td>\n",
       "      <td>2227.71</td>\n",
       "      <td>2021.00</td>\n",
       "      <td>1.0</td>\n",
       "    </tr>\n",
       "    <tr>\n",
       "      <th>sigma</th>\n",
       "      <td>48.96</td>\n",
       "      <td>5.10</td>\n",
       "      <td>36.33</td>\n",
       "      <td>64.18</td>\n",
       "      <td>0.18</td>\n",
       "      <td>2139.09</td>\n",
       "      <td>1912.97</td>\n",
       "      <td>1.0</td>\n",
       "    </tr>\n",
       "    <tr>\n",
       "      <th>intercept</th>\n",
       "      <td>-80.23</td>\n",
       "      <td>43.61</td>\n",
       "      <td>-211.52</td>\n",
       "      <td>47.32</td>\n",
       "      <td>2.21</td>\n",
       "      <td>1624.88</td>\n",
       "      <td>1696.96</td>\n",
       "      <td>1.0</td>\n",
       "    </tr>\n",
       "    <tr>\n",
       "      <th>beta_1</th>\n",
       "      <td>0.06</td>\n",
       "      <td>0.01</td>\n",
       "      <td>0.04</td>\n",
       "      <td>0.08</td>\n",
       "      <td>0.00</td>\n",
       "      <td>1716.45</td>\n",
       "      <td>1698.63</td>\n",
       "      <td>1.0</td>\n",
       "    </tr>\n",
       "  </tbody>\n",
       "</table>\n",
       "</div>"
      ],
      "text/plain": [
       "           median    mad  eti_3%  eti_97%  mcse_median  ess_median  ess_tail  \\\n",
       "nu           6.18   2.37    2.31    22.87         0.10     2227.71   2021.00   \n",
       "sigma       48.96   5.10   36.33    64.18         0.18     2139.09   1912.97   \n",
       "intercept  -80.23  43.61 -211.52    47.32         2.21     1624.88   1696.96   \n",
       "beta_1       0.06   0.01    0.04     0.08         0.00     1716.45   1698.63   \n",
       "\n",
       "           r_hat  \n",
       "nu           1.0  \n",
       "sigma        1.0  \n",
       "intercept    1.0  \n",
       "beta_1       1.0  "
      ]
     },
     "execution_count": 80,
     "metadata": {},
     "output_type": "execute_result"
    }
   ],
   "source": [
    "# Posterior median\n",
    "print(\"number of MCMC samples:\", idata.posterior['nu'].values.flatten().shape[-1])\n",
    "az.summary(idata,var_names=[\"nu\",\"sigma\",\"intercept\",\"beta_1\"], stat_focus=\"median\", round_to=2)"
   ]
  },
  {
   "cell_type": "markdown",
   "id": "ea66006e",
   "metadata": {},
   "source": [
    "## Geweke's lamda = 0.1, Quadratic model"
   ]
  },
  {
   "cell_type": "code",
   "execution_count": 33,
   "id": "a45463e6",
   "metadata": {},
   "outputs": [
    {
     "name": "stderr",
     "output_type": "stream",
     "text": [
      "Auto-assigning NUTS sampler...\n",
      "Initializing NUTS using jitter+adapt_diag...\n",
      "Multiprocess sampling (4 chains in 4 jobs)\n",
      "NUTS: [nu, sigma, intercept, beta_1, beta_2]\n"
     ]
    },
    {
     "data": {
      "text/html": [
       "\n",
       "<style>\n",
       "    /* Turns off some styling */\n",
       "    progress {\n",
       "        /* gets rid of default border in Firefox and Opera. */\n",
       "        border: none;\n",
       "        /* Needs to be in here for Safari polyfill so background images work as expected. */\n",
       "        background-size: auto;\n",
       "    }\n",
       "    progress:not([value]), progress:not([value])::-webkit-progress-bar {\n",
       "        background: repeating-linear-gradient(45deg, #7e7e7e, #7e7e7e 10px, #5c5c5c 10px, #5c5c5c 20px);\n",
       "    }\n",
       "    .progress-bar-interrupted, .progress-bar-interrupted::-webkit-progress-bar {\n",
       "        background: #F44336;\n",
       "    }\n",
       "</style>\n"
      ],
      "text/plain": [
       "<IPython.core.display.HTML object>"
      ]
     },
     "metadata": {},
     "output_type": "display_data"
    },
    {
     "data": {
      "text/html": [
       "\n",
       "    <div>\n",
       "      <progress value='8000' class='' max='8000' style='width:300px; height:20px; vertical-align: middle;'></progress>\n",
       "      100.00% [8000/8000 03:36&lt;00:00 Sampling 4 chains, 438 divergences]\n",
       "    </div>\n",
       "    "
      ],
      "text/plain": [
       "<IPython.core.display.HTML object>"
      ]
     },
     "metadata": {},
     "output_type": "display_data"
    },
    {
     "name": "stderr",
     "output_type": "stream",
     "text": [
      "Sampling 4 chains for 1_000 tune and 1_000 draw iterations (4_000 + 4_000 draws total) took 217 seconds.\n",
      "The rhat statistic is larger than 1.01 for some parameters. This indicates problems during sampling. See https://arxiv.org/abs/1903.08008 for details\n",
      "The effective sample size per chain is smaller than 100 for some parameters.  A higher number is needed for reliable rhat and ess computation. See https://arxiv.org/abs/1903.08008 for details\n",
      "There were 438 divergences after tuning. Increase `target_accept` or reparameterize.\n",
      "Chain 0 reached the maximum tree depth. Increase `max_treedepth`, increase `target_accept` or reparameterize.\n",
      "Chain 1 reached the maximum tree depth. Increase `max_treedepth`, increase `target_accept` or reparameterize.\n",
      "Chain 2 reached the maximum tree depth. Increase `max_treedepth`, increase `target_accept` or reparameterize.\n"
     ]
    }
   ],
   "source": [
    "model_0_1_quad = pm.Model()\n",
    "\n",
    "with model_0_1_quad:\n",
    "    # Geweke prior on nu with lamda = 0.1\n",
    "    nu = pm.Exponential('nu', lam = 0.1)\n",
    "    \n",
    "    # sigma prior 1/x\n",
    "    sigma = pm.CustomDist('sigma',logp=logsig)\n",
    "    \n",
    "    # Flat prior on betas\n",
    "    intercept = pm.Flat('intercept')\n",
    "    beta_1 = pm.Flat('beta_1')\n",
    "    beta_2 = pm.Flat('beta_2')\n",
    "       \n",
    "    # Linear combination of beta and x\n",
    "    mu = pm.Deterministic('mu', intercept + beta_1*X1 + beta_2*X2)\n",
    "\n",
    "    # T regression likelihood\n",
    "    y = pm.StudentT('y', nu = nu, mu = mu, sigma = sigma, shape = n, observed = true_y)\n",
    "\n",
    "    idata_quad = pm.sample()"
   ]
  },
  {
   "cell_type": "code",
   "execution_count": 81,
   "id": "6efb39b9",
   "metadata": {},
   "outputs": [
    {
     "name": "stdout",
     "output_type": "stream",
     "text": [
      "number of MCMC samples: 4000\n"
     ]
    },
    {
     "data": {
      "text/html": [
       "<div>\n",
       "<style scoped>\n",
       "    .dataframe tbody tr th:only-of-type {\n",
       "        vertical-align: middle;\n",
       "    }\n",
       "\n",
       "    .dataframe tbody tr th {\n",
       "        vertical-align: top;\n",
       "    }\n",
       "\n",
       "    .dataframe thead th {\n",
       "        text-align: right;\n",
       "    }\n",
       "</style>\n",
       "<table border=\"1\" class=\"dataframe\">\n",
       "  <thead>\n",
       "    <tr style=\"text-align: right;\">\n",
       "      <th></th>\n",
       "      <th>median</th>\n",
       "      <th>mad</th>\n",
       "      <th>eti_3%</th>\n",
       "      <th>eti_97%</th>\n",
       "      <th>mcse_median</th>\n",
       "      <th>ess_median</th>\n",
       "      <th>ess_tail</th>\n",
       "      <th>r_hat</th>\n",
       "    </tr>\n",
       "  </thead>\n",
       "  <tbody>\n",
       "    <tr>\n",
       "      <th>nu</th>\n",
       "      <td>8.71</td>\n",
       "      <td>4.74</td>\n",
       "      <td>2.42</td>\n",
       "      <td>24.13</td>\n",
       "      <td>3.59</td>\n",
       "      <td>9.01</td>\n",
       "      <td>42.70</td>\n",
       "      <td>1.43</td>\n",
       "    </tr>\n",
       "    <tr>\n",
       "      <th>sigma</th>\n",
       "      <td>52.93</td>\n",
       "      <td>3.51</td>\n",
       "      <td>39.32</td>\n",
       "      <td>63.21</td>\n",
       "      <td>3.60</td>\n",
       "      <td>6.60</td>\n",
       "      <td>42.26</td>\n",
       "      <td>1.48</td>\n",
       "    </tr>\n",
       "    <tr>\n",
       "      <th>intercept</th>\n",
       "      <td>-91.42</td>\n",
       "      <td>32.50</td>\n",
       "      <td>-213.47</td>\n",
       "      <td>38.56</td>\n",
       "      <td>7.57</td>\n",
       "      <td>21.94</td>\n",
       "      <td>174.12</td>\n",
       "      <td>1.56</td>\n",
       "    </tr>\n",
       "    <tr>\n",
       "      <th>beta_1</th>\n",
       "      <td>-0.96</td>\n",
       "      <td>3.84</td>\n",
       "      <td>-10.35</td>\n",
       "      <td>8.94</td>\n",
       "      <td>2.70</td>\n",
       "      <td>6.43</td>\n",
       "      <td>13.21</td>\n",
       "      <td>2.40</td>\n",
       "    </tr>\n",
       "    <tr>\n",
       "      <th>beta_2</th>\n",
       "      <td>1.02</td>\n",
       "      <td>3.85</td>\n",
       "      <td>-8.88</td>\n",
       "      <td>10.41</td>\n",
       "      <td>2.70</td>\n",
       "      <td>6.43</td>\n",
       "      <td>12.93</td>\n",
       "      <td>2.41</td>\n",
       "    </tr>\n",
       "  </tbody>\n",
       "</table>\n",
       "</div>"
      ],
      "text/plain": [
       "           median    mad  eti_3%  eti_97%  mcse_median  ess_median  ess_tail  \\\n",
       "nu           8.71   4.74    2.42    24.13         3.59        9.01     42.70   \n",
       "sigma       52.93   3.51   39.32    63.21         3.60        6.60     42.26   \n",
       "intercept  -91.42  32.50 -213.47    38.56         7.57       21.94    174.12   \n",
       "beta_1      -0.96   3.84  -10.35     8.94         2.70        6.43     13.21   \n",
       "beta_2       1.02   3.85   -8.88    10.41         2.70        6.43     12.93   \n",
       "\n",
       "           r_hat  \n",
       "nu          1.43  \n",
       "sigma       1.48  \n",
       "intercept   1.56  \n",
       "beta_1      2.40  \n",
       "beta_2      2.41  "
      ]
     },
     "execution_count": 81,
     "metadata": {},
     "output_type": "execute_result"
    }
   ],
   "source": [
    "# Posterior median\n",
    "print(\"number of MCMC samples:\", idata_quad.posterior['nu'].values.flatten().shape[-1])\n",
    "az.summary(idata_quad,var_names=[\"nu\",\"sigma\",\"intercept\",\"beta_1\",\"beta_2\"], stat_focus=\"median\", round_to=2)"
   ]
  },
  {
   "cell_type": "markdown",
   "id": "8ff2735c",
   "metadata": {},
   "source": [
    "In Geweke 0.1 prior, quadratic model gives higher estimate than linear model (similar with paper results 6.35 vs 8.07)"
   ]
  },
  {
   "cell_type": "markdown",
   "id": "e3313d83",
   "metadata": {},
   "source": [
    "## Geweke's lamda = 1.0, Linear model"
   ]
  },
  {
   "cell_type": "code",
   "execution_count": 22,
   "id": "121af166",
   "metadata": {},
   "outputs": [
    {
     "name": "stderr",
     "output_type": "stream",
     "text": [
      "Auto-assigning NUTS sampler...\n",
      "Initializing NUTS using jitter+adapt_diag...\n",
      "Multiprocess sampling (4 chains in 4 jobs)\n",
      "NUTS: [nu, sigma, intercept, beta_1]\n"
     ]
    },
    {
     "data": {
      "text/html": [
       "\n",
       "<style>\n",
       "    /* Turns off some styling */\n",
       "    progress {\n",
       "        /* gets rid of default border in Firefox and Opera. */\n",
       "        border: none;\n",
       "        /* Needs to be in here for Safari polyfill so background images work as expected. */\n",
       "        background-size: auto;\n",
       "    }\n",
       "    progress:not([value]), progress:not([value])::-webkit-progress-bar {\n",
       "        background: repeating-linear-gradient(45deg, #7e7e7e, #7e7e7e 10px, #5c5c5c 10px, #5c5c5c 20px);\n",
       "    }\n",
       "    .progress-bar-interrupted, .progress-bar-interrupted::-webkit-progress-bar {\n",
       "        background: #F44336;\n",
       "    }\n",
       "</style>\n"
      ],
      "text/plain": [
       "<IPython.core.display.HTML object>"
      ]
     },
     "metadata": {},
     "output_type": "display_data"
    },
    {
     "data": {
      "text/html": [
       "\n",
       "    <div>\n",
       "      <progress value='8000' class='' max='8000' style='width:300px; height:20px; vertical-align: middle;'></progress>\n",
       "      100.00% [8000/8000 00:09&lt;00:00 Sampling 4 chains, 0 divergences]\n",
       "    </div>\n",
       "    "
      ],
      "text/plain": [
       "<IPython.core.display.HTML object>"
      ]
     },
     "metadata": {},
     "output_type": "display_data"
    },
    {
     "name": "stderr",
     "output_type": "stream",
     "text": [
      "Sampling 4 chains for 1_000 tune and 1_000 draw iterations (4_000 + 4_000 draws total) took 10 seconds.\n"
     ]
    }
   ],
   "source": [
    "model_1_0 = pm.Model()\n",
    "\n",
    "with model_1_0:\n",
    "    # Geweke prior on nu with lamda = 1.0  \n",
    "    nu = pm.Exponential('nu', lam = 1.0)\n",
    "    \n",
    "    # sigma prior 1/x\n",
    "    sigma = pm.CustomDist('sigma',logp=logsig)\n",
    "    \n",
    "    # Flat prior on betas\n",
    "    intercept = pm.Flat('intercept')\n",
    "    beta_1 = pm.Flat('beta_1')\n",
    "    \n",
    "    # Linear combination of beta and x\n",
    "    mu = pm.Deterministic('mu', intercept + beta_1*X1)\n",
    "\n",
    "    # T regression likelihood\n",
    "    y = pm.StudentT('y', nu = nu, mu = mu, sigma = sigma, shape = n, observed = true_y)\n",
    "\n",
    "    idata2 = pm.sample()"
   ]
  },
  {
   "cell_type": "code",
   "execution_count": 82,
   "id": "939bdbeb",
   "metadata": {},
   "outputs": [
    {
     "name": "stdout",
     "output_type": "stream",
     "text": [
      "number of MCMC samples: 4000\n"
     ]
    },
    {
     "data": {
      "text/html": [
       "<div>\n",
       "<style scoped>\n",
       "    .dataframe tbody tr th:only-of-type {\n",
       "        vertical-align: middle;\n",
       "    }\n",
       "\n",
       "    .dataframe tbody tr th {\n",
       "        vertical-align: top;\n",
       "    }\n",
       "\n",
       "    .dataframe thead th {\n",
       "        text-align: right;\n",
       "    }\n",
       "</style>\n",
       "<table border=\"1\" class=\"dataframe\">\n",
       "  <thead>\n",
       "    <tr style=\"text-align: right;\">\n",
       "      <th></th>\n",
       "      <th>median</th>\n",
       "      <th>mad</th>\n",
       "      <th>eti_3%</th>\n",
       "      <th>eti_97%</th>\n",
       "      <th>mcse_median</th>\n",
       "      <th>ess_median</th>\n",
       "      <th>ess_tail</th>\n",
       "      <th>r_hat</th>\n",
       "    </tr>\n",
       "  </thead>\n",
       "  <tbody>\n",
       "    <tr>\n",
       "      <th>nu</th>\n",
       "      <td>2.93</td>\n",
       "      <td>0.68</td>\n",
       "      <td>1.50</td>\n",
       "      <td>5.67</td>\n",
       "      <td>0.02</td>\n",
       "      <td>2466.26</td>\n",
       "      <td>2100.06</td>\n",
       "      <td>1.0</td>\n",
       "    </tr>\n",
       "    <tr>\n",
       "      <th>sigma</th>\n",
       "      <td>43.28</td>\n",
       "      <td>4.51</td>\n",
       "      <td>31.57</td>\n",
       "      <td>57.72</td>\n",
       "      <td>0.17</td>\n",
       "      <td>2410.82</td>\n",
       "      <td>1899.52</td>\n",
       "      <td>1.0</td>\n",
       "    </tr>\n",
       "    <tr>\n",
       "      <th>intercept</th>\n",
       "      <td>-71.59</td>\n",
       "      <td>42.87</td>\n",
       "      <td>-194.72</td>\n",
       "      <td>48.06</td>\n",
       "      <td>1.57</td>\n",
       "      <td>1939.69</td>\n",
       "      <td>2036.53</td>\n",
       "      <td>1.0</td>\n",
       "    </tr>\n",
       "    <tr>\n",
       "      <th>beta_1</th>\n",
       "      <td>0.06</td>\n",
       "      <td>0.01</td>\n",
       "      <td>0.04</td>\n",
       "      <td>0.07</td>\n",
       "      <td>0.00</td>\n",
       "      <td>1955.62</td>\n",
       "      <td>1981.61</td>\n",
       "      <td>1.0</td>\n",
       "    </tr>\n",
       "  </tbody>\n",
       "</table>\n",
       "</div>"
      ],
      "text/plain": [
       "           median    mad  eti_3%  eti_97%  mcse_median  ess_median  ess_tail  \\\n",
       "nu           2.93   0.68    1.50     5.67         0.02     2466.26   2100.06   \n",
       "sigma       43.28   4.51   31.57    57.72         0.17     2410.82   1899.52   \n",
       "intercept  -71.59  42.87 -194.72    48.06         1.57     1939.69   2036.53   \n",
       "beta_1       0.06   0.01    0.04     0.07         0.00     1955.62   1981.61   \n",
       "\n",
       "           r_hat  \n",
       "nu           1.0  \n",
       "sigma        1.0  \n",
       "intercept    1.0  \n",
       "beta_1       1.0  "
      ]
     },
     "execution_count": 82,
     "metadata": {},
     "output_type": "execute_result"
    }
   ],
   "source": [
    "# Posterior median\n",
    "print(\"number of MCMC samples:\", idata2.posterior['nu'].values.flatten().shape[-1])\n",
    "az.summary(idata2,var_names=[\"nu\",\"sigma\",\"intercept\",\"beta_1\"], stat_focus=\"median\", round_to=2)"
   ]
  },
  {
   "cell_type": "markdown",
   "id": "d30b1a2c",
   "metadata": {},
   "source": [
    "## Gweke's lamda = 1.0, Quadratic model"
   ]
  },
  {
   "cell_type": "code",
   "execution_count": 37,
   "id": "c5defb33",
   "metadata": {},
   "outputs": [
    {
     "name": "stderr",
     "output_type": "stream",
     "text": [
      "Auto-assigning NUTS sampler...\n",
      "Initializing NUTS using jitter+adapt_diag...\n",
      "Multiprocess sampling (4 chains in 4 jobs)\n",
      "NUTS: [nu, sigma, intercept, beta_1, beta_2]\n"
     ]
    },
    {
     "data": {
      "text/html": [
       "\n",
       "<style>\n",
       "    /* Turns off some styling */\n",
       "    progress {\n",
       "        /* gets rid of default border in Firefox and Opera. */\n",
       "        border: none;\n",
       "        /* Needs to be in here for Safari polyfill so background images work as expected. */\n",
       "        background-size: auto;\n",
       "    }\n",
       "    progress:not([value]), progress:not([value])::-webkit-progress-bar {\n",
       "        background: repeating-linear-gradient(45deg, #7e7e7e, #7e7e7e 10px, #5c5c5c 10px, #5c5c5c 20px);\n",
       "    }\n",
       "    .progress-bar-interrupted, .progress-bar-interrupted::-webkit-progress-bar {\n",
       "        background: #F44336;\n",
       "    }\n",
       "</style>\n"
      ],
      "text/plain": [
       "<IPython.core.display.HTML object>"
      ]
     },
     "metadata": {},
     "output_type": "display_data"
    },
    {
     "data": {
      "text/html": [
       "\n",
       "    <div>\n",
       "      <progress value='8000' class='' max='8000' style='width:300px; height:20px; vertical-align: middle;'></progress>\n",
       "      100.00% [8000/8000 03:33&lt;00:00 Sampling 4 chains, 0 divergences]\n",
       "    </div>\n",
       "    "
      ],
      "text/plain": [
       "<IPython.core.display.HTML object>"
      ]
     },
     "metadata": {},
     "output_type": "display_data"
    },
    {
     "name": "stderr",
     "output_type": "stream",
     "text": [
      "Sampling 4 chains for 1_000 tune and 1_000 draw iterations (4_000 + 4_000 draws total) took 214 seconds.\n",
      "The rhat statistic is larger than 1.01 for some parameters. This indicates problems during sampling. See https://arxiv.org/abs/1903.08008 for details\n",
      "The effective sample size per chain is smaller than 100 for some parameters.  A higher number is needed for reliable rhat and ess computation. See https://arxiv.org/abs/1903.08008 for details\n",
      "Chain 0 reached the maximum tree depth. Increase `max_treedepth`, increase `target_accept` or reparameterize.\n",
      "Chain 1 reached the maximum tree depth. Increase `max_treedepth`, increase `target_accept` or reparameterize.\n",
      "Chain 3 reached the maximum tree depth. Increase `max_treedepth`, increase `target_accept` or reparameterize.\n"
     ]
    }
   ],
   "source": [
    "model_1_0_quad = pm.Model()\n",
    "\n",
    "with model_1_0_quad:\n",
    "    # Geweke prior on nu with lamda = 1.0 \n",
    "    nu = pm.Exponential('nu', lam = 1.0)\n",
    "    \n",
    "    # sigma prior 1/x\n",
    "    sigma = pm.CustomDist('sigma',logp=logsig)\n",
    "    \n",
    "    # Flat prior on betas\n",
    "    intercept = pm.Flat('intercept')\n",
    "    beta_1 = pm.Flat('beta_1')\n",
    "    beta_2 = pm.Flat('beta_2')\n",
    "    \n",
    "    # Linear combination of beta and x\n",
    "    mu = pm.Deterministic('mu', intercept + beta_1*X1 + beta_2*X2)\n",
    "\n",
    "    # T regression likelihood\n",
    "    y = pm.StudentT('y', nu = nu, mu = mu, sigma = sigma, shape = n, observed = true_y)\n",
    "\n",
    "    idata2_quad = pm.sample()"
   ]
  },
  {
   "cell_type": "code",
   "execution_count": 83,
   "id": "95a0a4f2",
   "metadata": {},
   "outputs": [
    {
     "name": "stdout",
     "output_type": "stream",
     "text": [
      "number of MCMC samples: 4000\n"
     ]
    },
    {
     "data": {
      "text/html": [
       "<div>\n",
       "<style scoped>\n",
       "    .dataframe tbody tr th:only-of-type {\n",
       "        vertical-align: middle;\n",
       "    }\n",
       "\n",
       "    .dataframe tbody tr th {\n",
       "        vertical-align: top;\n",
       "    }\n",
       "\n",
       "    .dataframe thead th {\n",
       "        text-align: right;\n",
       "    }\n",
       "</style>\n",
       "<table border=\"1\" class=\"dataframe\">\n",
       "  <thead>\n",
       "    <tr style=\"text-align: right;\">\n",
       "      <th></th>\n",
       "      <th>median</th>\n",
       "      <th>mad</th>\n",
       "      <th>eti_3%</th>\n",
       "      <th>eti_97%</th>\n",
       "      <th>mcse_median</th>\n",
       "      <th>ess_median</th>\n",
       "      <th>ess_tail</th>\n",
       "      <th>r_hat</th>\n",
       "    </tr>\n",
       "  </thead>\n",
       "  <tbody>\n",
       "    <tr>\n",
       "      <th>nu</th>\n",
       "      <td>3.52</td>\n",
       "      <td>0.57</td>\n",
       "      <td>1.65</td>\n",
       "      <td>5.84</td>\n",
       "      <td>0.31</td>\n",
       "      <td>12.74</td>\n",
       "      <td>112.01</td>\n",
       "      <td>1.24</td>\n",
       "    </tr>\n",
       "    <tr>\n",
       "      <th>sigma</th>\n",
       "      <td>41.30</td>\n",
       "      <td>2.88</td>\n",
       "      <td>34.12</td>\n",
       "      <td>56.84</td>\n",
       "      <td>2.83</td>\n",
       "      <td>11.57</td>\n",
       "      <td>233.66</td>\n",
       "      <td>1.12</td>\n",
       "    </tr>\n",
       "    <tr>\n",
       "      <th>intercept</th>\n",
       "      <td>-44.32</td>\n",
       "      <td>35.81</td>\n",
       "      <td>-182.19</td>\n",
       "      <td>12.70</td>\n",
       "      <td>5.89</td>\n",
       "      <td>10.13</td>\n",
       "      <td>85.67</td>\n",
       "      <td>1.55</td>\n",
       "    </tr>\n",
       "    <tr>\n",
       "      <th>beta_1</th>\n",
       "      <td>2.13</td>\n",
       "      <td>2.11</td>\n",
       "      <td>-4.36</td>\n",
       "      <td>7.35</td>\n",
       "      <td>1.17</td>\n",
       "      <td>5.40</td>\n",
       "      <td>33.47</td>\n",
       "      <td>1.87</td>\n",
       "    </tr>\n",
       "    <tr>\n",
       "      <th>beta_2</th>\n",
       "      <td>-2.08</td>\n",
       "      <td>2.11</td>\n",
       "      <td>-7.30</td>\n",
       "      <td>4.41</td>\n",
       "      <td>1.18</td>\n",
       "      <td>5.34</td>\n",
       "      <td>33.47</td>\n",
       "      <td>1.88</td>\n",
       "    </tr>\n",
       "  </tbody>\n",
       "</table>\n",
       "</div>"
      ],
      "text/plain": [
       "           median    mad  eti_3%  eti_97%  mcse_median  ess_median  ess_tail  \\\n",
       "nu           3.52   0.57    1.65     5.84         0.31       12.74    112.01   \n",
       "sigma       41.30   2.88   34.12    56.84         2.83       11.57    233.66   \n",
       "intercept  -44.32  35.81 -182.19    12.70         5.89       10.13     85.67   \n",
       "beta_1       2.13   2.11   -4.36     7.35         1.17        5.40     33.47   \n",
       "beta_2      -2.08   2.11   -7.30     4.41         1.18        5.34     33.47   \n",
       "\n",
       "           r_hat  \n",
       "nu          1.24  \n",
       "sigma       1.12  \n",
       "intercept   1.55  \n",
       "beta_1      1.87  \n",
       "beta_2      1.88  "
      ]
     },
     "execution_count": 83,
     "metadata": {},
     "output_type": "execute_result"
    }
   ],
   "source": [
    "# Posterior median\n",
    "print(\"number of MCMC samples:\", idata2_quad.posterior['nu'].values.flatten().shape[-1])\n",
    "az.summary(idata2_quad,var_names=[\"nu\",\"sigma\",\"intercept\",\"beta_1\",\"beta_2\"], stat_focus=\"median\", round_to=2)"
   ]
  },
  {
   "cell_type": "markdown",
   "id": "626187a1",
   "metadata": {},
   "source": [
    "Geweke's prior with lamda = 1 leads to smaller nu estimates (consistent with paper results)."
   ]
  },
  {
   "cell_type": "markdown",
   "id": "130cc003",
   "metadata": {},
   "source": [
    "## Jeffreys prior, Linear model"
   ]
  },
  {
   "cell_type": "code",
   "execution_count": 48,
   "id": "0ecaef3d",
   "metadata": {},
   "outputs": [],
   "source": [
    "import pytensor.tensor as pt\n",
    "# Jeffreys prior pdf\n",
    "def logJeff(x):\n",
    "    return pt.log((x/(x+3))**(1/2)*(pt.polygamma(1,x/2) - pt.polygamma(1, (x+1)/2) - 2*(x+3)/(x*(x+1)**2))**(1/2))"
   ]
  },
  {
   "cell_type": "code",
   "execution_count": 49,
   "id": "744f99fd",
   "metadata": {},
   "outputs": [
    {
     "name": "stderr",
     "output_type": "stream",
     "text": [
      "/opt/conda/lib/python3.11/site-packages/pytensor/tensor/rewriting/elemwise.py:701: UserWarning: Optimization Warning: The Op polygamma does not provide a C implementation. As well as being potentially slow, this also disables loop fusion.\n",
      "  warn(\n",
      "Auto-assigning NUTS sampler...\n",
      "Initializing NUTS using jitter+adapt_diag...\n",
      "/opt/conda/lib/python3.11/site-packages/pytensor/tensor/rewriting/elemwise.py:701: UserWarning: Optimization Warning: The Op polygamma does not provide a C implementation. As well as being potentially slow, this also disables loop fusion.\n",
      "  warn(\n",
      "Multiprocess sampling (4 chains in 4 jobs)\n",
      "NUTS: [nu, sigma, intercept, beta_1]\n"
     ]
    },
    {
     "data": {
      "text/html": [
       "\n",
       "<style>\n",
       "    /* Turns off some styling */\n",
       "    progress {\n",
       "        /* gets rid of default border in Firefox and Opera. */\n",
       "        border: none;\n",
       "        /* Needs to be in here for Safari polyfill so background images work as expected. */\n",
       "        background-size: auto;\n",
       "    }\n",
       "    progress:not([value]), progress:not([value])::-webkit-progress-bar {\n",
       "        background: repeating-linear-gradient(45deg, #7e7e7e, #7e7e7e 10px, #5c5c5c 10px, #5c5c5c 20px);\n",
       "    }\n",
       "    .progress-bar-interrupted, .progress-bar-interrupted::-webkit-progress-bar {\n",
       "        background: #F44336;\n",
       "    }\n",
       "</style>\n"
      ],
      "text/plain": [
       "<IPython.core.display.HTML object>"
      ]
     },
     "metadata": {},
     "output_type": "display_data"
    },
    {
     "data": {
      "text/html": [
       "\n",
       "    <div>\n",
       "      <progress value='8000' class='' max='8000' style='width:300px; height:20px; vertical-align: middle;'></progress>\n",
       "      100.00% [8000/8000 00:14&lt;00:00 Sampling 4 chains, 0 divergences]\n",
       "    </div>\n",
       "    "
      ],
      "text/plain": [
       "<IPython.core.display.HTML object>"
      ]
     },
     "metadata": {},
     "output_type": "display_data"
    },
    {
     "name": "stderr",
     "output_type": "stream",
     "text": [
      "Sampling 4 chains for 1_000 tune and 1_000 draw iterations (4_000 + 4_000 draws total) took 14 seconds.\n"
     ]
    }
   ],
   "source": [
    "modelJeff = pm.Model()\n",
    "\n",
    "with modelJeff:\n",
    "    # Jeffrey's prior on nu\n",
    "    nu = pm.CustomDist('nu', logp=logJeff)\n",
    "    \n",
    "    # sigma prior 1/x\n",
    "    sigma = pm.CustomDist('sigma',logp=logsig)\n",
    "    \n",
    "    # Flat prior on betas\n",
    "    intercept = pm.Flat('intercept')\n",
    "    beta_1 = pm.Flat('beta_1')\n",
    "    \n",
    "    # Linear combination of beta and x\n",
    "    mu = pm.Deterministic('mu', intercept + beta_1*X1)\n",
    "\n",
    "    # T regression likelihood\n",
    "    y = pm.StudentT('y', nu = nu, mu = mu, sigma = sigma, shape = n, observed = true_y)\n",
    "\n",
    "    idataJeff = pm.sample()"
   ]
  },
  {
   "cell_type": "code",
   "execution_count": 57,
   "id": "2a477ad4",
   "metadata": {},
   "outputs": [
    {
     "name": "stdout",
     "output_type": "stream",
     "text": [
      "number of MCMC samples: 4000\n"
     ]
    },
    {
     "data": {
      "text/html": [
       "<div>\n",
       "<style scoped>\n",
       "    .dataframe tbody tr th:only-of-type {\n",
       "        vertical-align: middle;\n",
       "    }\n",
       "\n",
       "    .dataframe tbody tr th {\n",
       "        vertical-align: top;\n",
       "    }\n",
       "\n",
       "    .dataframe thead th {\n",
       "        text-align: right;\n",
       "    }\n",
       "</style>\n",
       "<table border=\"1\" class=\"dataframe\">\n",
       "  <thead>\n",
       "    <tr style=\"text-align: right;\">\n",
       "      <th></th>\n",
       "      <th>median</th>\n",
       "      <th>mad</th>\n",
       "      <th>eti_3%</th>\n",
       "      <th>eti_97%</th>\n",
       "      <th>mcse_median</th>\n",
       "      <th>ess_median</th>\n",
       "      <th>ess_tail</th>\n",
       "      <th>r_hat</th>\n",
       "    </tr>\n",
       "  </thead>\n",
       "  <tbody>\n",
       "    <tr>\n",
       "      <th>nu</th>\n",
       "      <td>4.30</td>\n",
       "      <td>1.47</td>\n",
       "      <td>1.89</td>\n",
       "      <td>17.44</td>\n",
       "      <td>0.08</td>\n",
       "      <td>1461.38</td>\n",
       "      <td>284.94</td>\n",
       "      <td>1.01</td>\n",
       "    </tr>\n",
       "    <tr>\n",
       "      <th>sigma</th>\n",
       "      <td>46.52</td>\n",
       "      <td>4.96</td>\n",
       "      <td>34.03</td>\n",
       "      <td>62.19</td>\n",
       "      <td>0.22</td>\n",
       "      <td>1572.16</td>\n",
       "      <td>1466.83</td>\n",
       "      <td>1.01</td>\n",
       "    </tr>\n",
       "    <tr>\n",
       "      <th>intercept</th>\n",
       "      <td>-72.46</td>\n",
       "      <td>43.57</td>\n",
       "      <td>-205.27</td>\n",
       "      <td>48.70</td>\n",
       "      <td>1.74</td>\n",
       "      <td>1480.17</td>\n",
       "      <td>1465.44</td>\n",
       "      <td>1.00</td>\n",
       "    </tr>\n",
       "    <tr>\n",
       "      <th>beta_1</th>\n",
       "      <td>0.06</td>\n",
       "      <td>0.01</td>\n",
       "      <td>0.04</td>\n",
       "      <td>0.08</td>\n",
       "      <td>0.00</td>\n",
       "      <td>1463.10</td>\n",
       "      <td>1358.44</td>\n",
       "      <td>1.00</td>\n",
       "    </tr>\n",
       "  </tbody>\n",
       "</table>\n",
       "</div>"
      ],
      "text/plain": [
       "           median    mad  eti_3%  eti_97%  mcse_median  ess_median  ess_tail  \\\n",
       "nu           4.30   1.47    1.89    17.44         0.08     1461.38    284.94   \n",
       "sigma       46.52   4.96   34.03    62.19         0.22     1572.16   1466.83   \n",
       "intercept  -72.46  43.57 -205.27    48.70         1.74     1480.17   1465.44   \n",
       "beta_1       0.06   0.01    0.04     0.08         0.00     1463.10   1358.44   \n",
       "\n",
       "           r_hat  \n",
       "nu          1.01  \n",
       "sigma       1.01  \n",
       "intercept   1.00  \n",
       "beta_1      1.00  "
      ]
     },
     "execution_count": 57,
     "metadata": {},
     "output_type": "execute_result"
    }
   ],
   "source": [
    "# Posterior median\n",
    "print(\"number of MCMC samples:\", idataJeff.posterior['nu'].values.flatten().shape[-1])\n",
    "az.summary(idataJeff,var_names=[\"nu\",\"sigma\",\"intercept\",\"beta_1\"], stat_focus=\"median\", round_to=2)"
   ]
  },
  {
   "cell_type": "markdown",
   "id": "1825f61c",
   "metadata": {},
   "source": [
    "- nu, sigma and intercept estimates are close to paper result\n",
    "- intercept CI is off from paper result (-210.8, 53)\n",
    "- beta_1 median estimiate is off from paper result : 583.2"
   ]
  },
  {
   "cell_type": "markdown",
   "id": "4864c4c9",
   "metadata": {},
   "source": [
    "## Jeffreys prior, Quadratic model"
   ]
  },
  {
   "cell_type": "code",
   "execution_count": 68,
   "id": "38d6dda3",
   "metadata": {},
   "outputs": [
    {
     "name": "stderr",
     "output_type": "stream",
     "text": [
      "/opt/conda/lib/python3.11/site-packages/pytensor/tensor/rewriting/elemwise.py:701: UserWarning: Optimization Warning: The Op polygamma does not provide a C implementation. As well as being potentially slow, this also disables loop fusion.\n",
      "  warn(\n",
      "Auto-assigning NUTS sampler...\n",
      "Initializing NUTS using jitter+adapt_diag...\n",
      "/opt/conda/lib/python3.11/site-packages/pytensor/tensor/rewriting/elemwise.py:701: UserWarning: Optimization Warning: The Op polygamma does not provide a C implementation. As well as being potentially slow, this also disables loop fusion.\n",
      "  warn(\n",
      "Multiprocess sampling (4 chains in 4 jobs)\n",
      "NUTS: [nu, sigma, intercept, beta_1, beta_2]\n"
     ]
    },
    {
     "data": {
      "text/html": [
       "\n",
       "<style>\n",
       "    /* Turns off some styling */\n",
       "    progress {\n",
       "        /* gets rid of default border in Firefox and Opera. */\n",
       "        border: none;\n",
       "        /* Needs to be in here for Safari polyfill so background images work as expected. */\n",
       "        background-size: auto;\n",
       "    }\n",
       "    progress:not([value]), progress:not([value])::-webkit-progress-bar {\n",
       "        background: repeating-linear-gradient(45deg, #7e7e7e, #7e7e7e 10px, #5c5c5c 10px, #5c5c5c 20px);\n",
       "    }\n",
       "    .progress-bar-interrupted, .progress-bar-interrupted::-webkit-progress-bar {\n",
       "        background: #F44336;\n",
       "    }\n",
       "</style>\n"
      ],
      "text/plain": [
       "<IPython.core.display.HTML object>"
      ]
     },
     "metadata": {},
     "output_type": "display_data"
    },
    {
     "data": {
      "text/html": [
       "\n",
       "    <div>\n",
       "      <progress value='8000' class='' max='8000' style='width:300px; height:20px; vertical-align: middle;'></progress>\n",
       "      100.00% [8000/8000 05:11&lt;00:00 Sampling 4 chains, 0 divergences]\n",
       "    </div>\n",
       "    "
      ],
      "text/plain": [
       "<IPython.core.display.HTML object>"
      ]
     },
     "metadata": {},
     "output_type": "display_data"
    },
    {
     "name": "stderr",
     "output_type": "stream",
     "text": [
      "Sampling 4 chains for 1_000 tune and 1_000 draw iterations (4_000 + 4_000 draws total) took 312 seconds.\n",
      "The rhat statistic is larger than 1.01 for some parameters. This indicates problems during sampling. See https://arxiv.org/abs/1903.08008 for details\n",
      "The effective sample size per chain is smaller than 100 for some parameters.  A higher number is needed for reliable rhat and ess computation. See https://arxiv.org/abs/1903.08008 for details\n",
      "Chain 0 reached the maximum tree depth. Increase `max_treedepth`, increase `target_accept` or reparameterize.\n",
      "Chain 2 reached the maximum tree depth. Increase `max_treedepth`, increase `target_accept` or reparameterize.\n",
      "Chain 3 reached the maximum tree depth. Increase `max_treedepth`, increase `target_accept` or reparameterize.\n"
     ]
    }
   ],
   "source": [
    "modelJeff_quad = pm.Model()\n",
    "\n",
    "with modelJeff_quad:\n",
    "    # Jeffrey's prior on nu\n",
    "    nu = pm.CustomDist('nu', logp=logJeff)\n",
    "    \n",
    "    # sigma prior 1/x\n",
    "    sigma = pm.CustomDist('sigma',logp=logsig)\n",
    "    \n",
    "    # Flat prior on betas\n",
    "    intercept = pm.Flat('intercept')\n",
    "    beta_1 = pm.Flat('beta_1')\n",
    "    beta_2 = pm.Flat('beta_2')\n",
    "    \n",
    "    # Linear combination of beta and x\n",
    "    mu = pm.Deterministic('mu', intercept + beta_1*X1 + beta_2*X2)\n",
    "\n",
    "    # T regression likelihood\n",
    "    y = pm.StudentT('y', nu = nu, mu = mu, sigma = sigma, shape = n, observed = true_y)\n",
    "\n",
    "    idataJeff_quad = pm.sample()"
   ]
  },
  {
   "cell_type": "code",
   "execution_count": 69,
   "id": "15c5aa57",
   "metadata": {},
   "outputs": [
    {
     "name": "stdout",
     "output_type": "stream",
     "text": [
      "number of MCMC samples: 4000\n"
     ]
    },
    {
     "data": {
      "text/html": [
       "<div>\n",
       "<style scoped>\n",
       "    .dataframe tbody tr th:only-of-type {\n",
       "        vertical-align: middle;\n",
       "    }\n",
       "\n",
       "    .dataframe tbody tr th {\n",
       "        vertical-align: top;\n",
       "    }\n",
       "\n",
       "    .dataframe thead th {\n",
       "        text-align: right;\n",
       "    }\n",
       "</style>\n",
       "<table border=\"1\" class=\"dataframe\">\n",
       "  <thead>\n",
       "    <tr style=\"text-align: right;\">\n",
       "      <th></th>\n",
       "      <th>median</th>\n",
       "      <th>mad</th>\n",
       "      <th>eti_3%</th>\n",
       "      <th>eti_97%</th>\n",
       "      <th>mcse_median</th>\n",
       "      <th>ess_median</th>\n",
       "      <th>ess_tail</th>\n",
       "      <th>r_hat</th>\n",
       "    </tr>\n",
       "  </thead>\n",
       "  <tbody>\n",
       "    <tr>\n",
       "      <th>nu</th>\n",
       "      <td>4.49</td>\n",
       "      <td>0.96</td>\n",
       "      <td>1.83</td>\n",
       "      <td>8.44</td>\n",
       "      <td>0.15</td>\n",
       "      <td>24.72</td>\n",
       "      <td>239.82</td>\n",
       "      <td>1.57</td>\n",
       "    </tr>\n",
       "    <tr>\n",
       "      <th>sigma</th>\n",
       "      <td>46.25</td>\n",
       "      <td>2.80</td>\n",
       "      <td>33.83</td>\n",
       "      <td>56.83</td>\n",
       "      <td>0.01</td>\n",
       "      <td>93.28</td>\n",
       "      <td>180.93</td>\n",
       "      <td>1.55</td>\n",
       "    </tr>\n",
       "    <tr>\n",
       "      <th>intercept</th>\n",
       "      <td>-89.31</td>\n",
       "      <td>29.58</td>\n",
       "      <td>-190.46</td>\n",
       "      <td>29.40</td>\n",
       "      <td>0.07</td>\n",
       "      <td>50.15</td>\n",
       "      <td>218.88</td>\n",
       "      <td>1.54</td>\n",
       "    </tr>\n",
       "    <tr>\n",
       "      <th>beta_1</th>\n",
       "      <td>1.12</td>\n",
       "      <td>2.84</td>\n",
       "      <td>-3.16</td>\n",
       "      <td>9.25</td>\n",
       "      <td>2.58</td>\n",
       "      <td>7.59</td>\n",
       "      <td>44.39</td>\n",
       "      <td>1.44</td>\n",
       "    </tr>\n",
       "    <tr>\n",
       "      <th>beta_2</th>\n",
       "      <td>-1.08</td>\n",
       "      <td>2.86</td>\n",
       "      <td>-9.19</td>\n",
       "      <td>3.22</td>\n",
       "      <td>2.58</td>\n",
       "      <td>7.59</td>\n",
       "      <td>44.39</td>\n",
       "      <td>1.44</td>\n",
       "    </tr>\n",
       "  </tbody>\n",
       "</table>\n",
       "</div>"
      ],
      "text/plain": [
       "           median    mad  eti_3%  eti_97%  mcse_median  ess_median  ess_tail  \\\n",
       "nu           4.49   0.96    1.83     8.44         0.15       24.72    239.82   \n",
       "sigma       46.25   2.80   33.83    56.83         0.01       93.28    180.93   \n",
       "intercept  -89.31  29.58 -190.46    29.40         0.07       50.15    218.88   \n",
       "beta_1       1.12   2.84   -3.16     9.25         2.58        7.59     44.39   \n",
       "beta_2      -1.08   2.86   -9.19     3.22         2.58        7.59     44.39   \n",
       "\n",
       "           r_hat  \n",
       "nu          1.57  \n",
       "sigma       1.55  \n",
       "intercept   1.54  \n",
       "beta_1      1.44  \n",
       "beta_2      1.44  "
      ]
     },
     "execution_count": 69,
     "metadata": {},
     "output_type": "execute_result"
    }
   ],
   "source": [
    "# Posterior median\n",
    "print(\"number of MCMC samples:\", idataJeff_quad.posterior['nu'].values.flatten().shape[-1])\n",
    "az.summary(idataJeff_quad,var_names=[\"nu\",\"sigma\",\"intercept\",\"beta_1\",\"beta_2\"], stat_focus=\"median\", round_to=2)"
   ]
  },
  {
   "cell_type": "markdown",
   "id": "2733771e",
   "metadata": {},
   "source": [
    "- nu and sigma estimates are close to paper result\n",
    "- nu upper CI is a bit off from paper result: 24.92\n",
    "- all beta estimates are very off from paper results: 899.7, -2077, 1789.7"
   ]
  },
  {
   "cell_type": "markdown",
   "id": "8d027202",
   "metadata": {},
   "source": [
    "## Potential explanation: direct substitution of MLE for betas?"
   ]
  },
  {
   "cell_type": "code",
   "execution_count": 78,
   "id": "890a6e4e",
   "metadata": {},
   "outputs": [
    {
     "name": "stderr",
     "output_type": "stream",
     "text": [
      "/opt/conda/lib/python3.11/site-packages/pytensor/tensor/rewriting/elemwise.py:701: UserWarning: Optimization Warning: The Op polygamma does not provide a C implementation. As well as being potentially slow, this also disables loop fusion.\n",
      "  warn(\n",
      "Auto-assigning NUTS sampler...\n",
      "Initializing NUTS using jitter+adapt_diag...\n",
      "/opt/conda/lib/python3.11/site-packages/pytensor/tensor/rewriting/elemwise.py:701: UserWarning: Optimization Warning: The Op polygamma does not provide a C implementation. As well as being potentially slow, this also disables loop fusion.\n",
      "  warn(\n",
      "Multiprocess sampling (4 chains in 4 jobs)\n",
      "NUTS: [nu, sigma]\n"
     ]
    },
    {
     "data": {
      "text/html": [
       "\n",
       "<style>\n",
       "    /* Turns off some styling */\n",
       "    progress {\n",
       "        /* gets rid of default border in Firefox and Opera. */\n",
       "        border: none;\n",
       "        /* Needs to be in here for Safari polyfill so background images work as expected. */\n",
       "        background-size: auto;\n",
       "    }\n",
       "    progress:not([value]), progress:not([value])::-webkit-progress-bar {\n",
       "        background: repeating-linear-gradient(45deg, #7e7e7e, #7e7e7e 10px, #5c5c5c 10px, #5c5c5c 20px);\n",
       "    }\n",
       "    .progress-bar-interrupted, .progress-bar-interrupted::-webkit-progress-bar {\n",
       "        background: #F44336;\n",
       "    }\n",
       "</style>\n"
      ],
      "text/plain": [
       "<IPython.core.display.HTML object>"
      ]
     },
     "metadata": {},
     "output_type": "display_data"
    },
    {
     "data": {
      "text/html": [
       "\n",
       "    <div>\n",
       "      <progress value='8000' class='' max='8000' style='width:300px; height:20px; vertical-align: middle;'></progress>\n",
       "      100.00% [8000/8000 00:15&lt;00:00 Sampling 4 chains, 1,790 divergences]\n",
       "    </div>\n",
       "    "
      ],
      "text/plain": [
       "<IPython.core.display.HTML object>"
      ]
     },
     "metadata": {},
     "output_type": "display_data"
    },
    {
     "name": "stderr",
     "output_type": "stream",
     "text": [
      "Sampling 4 chains for 1_000 tune and 1_000 draw iterations (4_000 + 4_000 draws total) took 16 seconds.\n",
      "The rhat statistic is larger than 1.01 for some parameters. This indicates problems during sampling. See https://arxiv.org/abs/1903.08008 for details\n",
      "The effective sample size per chain is smaller than 100 for some parameters.  A higher number is needed for reliable rhat and ess computation. See https://arxiv.org/abs/1903.08008 for details\n",
      "There were 1790 divergences after tuning. Increase `target_accept` or reparameterize.\n"
     ]
    }
   ],
   "source": [
    "lin = 899.7 -2077*X1 + 1789.7*X2\n",
    "\n",
    "modelJeff_quad_MLE = pm.Model()\n",
    "\n",
    "with modelJeff_quad_MLE:\n",
    "    # Jeffrey's prior on nu\n",
    "    nu = pm.CustomDist('nu', logp=logJeff, initval = 4.8)\n",
    "    \n",
    "    # sigma prior 1/x\n",
    "    sigma = pm.CustomDist('sigma',logp=logsig, initval = 46)\n",
    "\n",
    "    # T regression likelihood\n",
    "    y = pm.StudentT('y', nu = nu, mu = lin, sigma = sigma, shape = n, observed = true_y)\n",
    "\n",
    "    idataJeff_quad_MLE = pm.sample()"
   ]
  },
  {
   "cell_type": "code",
   "execution_count": 79,
   "id": "e0ca7b01",
   "metadata": {},
   "outputs": [
    {
     "data": {
      "text/html": [
       "<div>\n",
       "<style scoped>\n",
       "    .dataframe tbody tr th:only-of-type {\n",
       "        vertical-align: middle;\n",
       "    }\n",
       "\n",
       "    .dataframe tbody tr th {\n",
       "        vertical-align: top;\n",
       "    }\n",
       "\n",
       "    .dataframe thead th {\n",
       "        text-align: right;\n",
       "    }\n",
       "</style>\n",
       "<table border=\"1\" class=\"dataframe\">\n",
       "  <thead>\n",
       "    <tr style=\"text-align: right;\">\n",
       "      <th></th>\n",
       "      <th>median</th>\n",
       "      <th>mad</th>\n",
       "      <th>eti_3%</th>\n",
       "      <th>eti_97%</th>\n",
       "      <th>mcse_median</th>\n",
       "      <th>ess_median</th>\n",
       "      <th>ess_tail</th>\n",
       "      <th>r_hat</th>\n",
       "    </tr>\n",
       "  </thead>\n",
       "  <tbody>\n",
       "    <tr>\n",
       "      <th>nu</th>\n",
       "      <td>46.34</td>\n",
       "      <td>32.52</td>\n",
       "      <td>8.29</td>\n",
       "      <td>5037.51</td>\n",
       "      <td>8.39</td>\n",
       "      <td>90.23</td>\n",
       "      <td>33.45</td>\n",
       "      <td>1.07</td>\n",
       "    </tr>\n",
       "    <tr>\n",
       "      <th>sigma</th>\n",
       "      <td>2193129.58</td>\n",
       "      <td>142604.60</td>\n",
       "      <td>1842588.57</td>\n",
       "      <td>2669710.18</td>\n",
       "      <td>13759.88</td>\n",
       "      <td>205.53</td>\n",
       "      <td>129.42</td>\n",
       "      <td>1.01</td>\n",
       "    </tr>\n",
       "  </tbody>\n",
       "</table>\n",
       "</div>"
      ],
      "text/plain": [
       "           median        mad      eti_3%     eti_97%  mcse_median  ess_median  \\\n",
       "nu          46.34      32.52        8.29     5037.51         8.39       90.23   \n",
       "sigma  2193129.58  142604.60  1842588.57  2669710.18     13759.88      205.53   \n",
       "\n",
       "       ess_tail  r_hat  \n",
       "nu        33.45   1.07  \n",
       "sigma    129.42   1.01  "
      ]
     },
     "execution_count": 79,
     "metadata": {},
     "output_type": "execute_result"
    }
   ],
   "source": [
    "az.summary(idataJeff_quad_MLE,var_names=[\"nu\",\"sigma\"], stat_focus=\"median\", round_to=2)"
   ]
  },
  {
   "cell_type": "markdown",
   "id": "fc85fef8",
   "metadata": {},
   "source": [
    "nu and sigma estimates way off now."
   ]
  },
  {
   "cell_type": "markdown",
   "id": "a981e22e",
   "metadata": {},
   "source": [
    "# Task 2: Report format"
   ]
  },
  {
   "cell_type": "markdown",
   "id": "01f127e4",
   "metadata": {},
   "source": [
    "# Task 3:  T regression in R"
   ]
  },
  {
   "cell_type": "markdown",
   "id": "1f88145d",
   "metadata": {},
   "source": [
    "- use StLM function\n",
    "- https://cran.r-project.org/web/packages/StReg/StReg.pdf"
   ]
  },
  {
   "cell_type": "markdown",
   "id": "b4f01c0f",
   "metadata": {},
   "source": [
    "# Task 4: Simulation on $\\nu$ profile likelihood by obtaining $\\beta_\\nu$ and $\\sigma_\\nu$"
   ]
  },
  {
   "cell_type": "code",
   "execution_count": 420,
   "id": "00f3176b",
   "metadata": {},
   "outputs": [],
   "source": [
    "# Load packages\n",
    "from scipy.optimize import minimize\n",
    "from scipy import special"
   ]
  },
  {
   "cell_type": "code",
   "execution_count": 421,
   "id": "a5387e9c",
   "metadata": {},
   "outputs": [],
   "source": [
    "# sample data\n",
    "x1 = stats.norm(loc = 0, scale = 1).rvs(100)\n",
    "x2 = stats.norm(loc = 0, scale = 1).rvs(100)\n",
    "x3 = stats.norm(loc = 0, scale = 1).rvs(100)\n",
    "x4 = stats.norm(loc = 0, scale = 1).rvs(100)\n",
    "\n",
    "n = 100\n",
    "\n",
    "true_xb = 1 + x1*1 + 0.3*x2 + 0.9*x3 + 1*x4\n",
    "true_nu = 5\n",
    "hyper_sigma = math.sqrt(1.5)\n",
    "\n",
    "true_Y= stats.t.rvs(df=true_nu, loc=true_xb, scale=hyper_sigma, random_state=None)"
   ]
  },
  {
   "cell_type": "code",
   "execution_count": 427,
   "id": "e5e52339",
   "metadata": {},
   "outputs": [],
   "source": [
    "# Log likelihood function to be optimized\n",
    "def get_beta_sigma(params, nu):\n",
    "    intercept, beta_1, beta_2, beta_3, beta_4, sigma = params\n",
    "    XB = intercept + beta_1*x1 + beta_2*x2 + beta_3*x3 + beta_4*x4\n",
    "\n",
    "    # loglikelihood\n",
    "    equation = n * np.log(special.gamma((nu + 1)/2)) + n* nu *0.5 * np.log(nu) - n * np.log(special.gamma(nu/2)) - 0.5*n*np.log(np.pi) - n * np.log(sigma) - 0.5 *(nu + 1)*np.sum(np.log(nu + ((true_Y - XB)/sigma)**2))\n",
    "    return -equation"
   ]
  },
  {
   "cell_type": "code",
   "execution_count": 428,
   "id": "7341a843",
   "metadata": {},
   "outputs": [],
   "source": [
    "# Optimize function with initial guess\n",
    "def optimize_over_nu(nu):\n",
    "    initial_guess = [1, 1, 1, 1, 1, 1]\n",
    "    result = minimize(get_beta_sigma, initial_guess, args=(nu,), method='BFGS')  # You can choose other optimization methods as well\n",
    "\n",
    "    return result.x, result.fun  # Return the optimized parameters and the likelihood value"
   ]
  },
  {
   "cell_type": "code",
   "execution_count": 438,
   "id": "40a4be84",
   "metadata": {},
   "outputs": [
    {
     "name": "stderr",
     "output_type": "stream",
     "text": [
      "/tmp/ipykernel_71/1964281503.py:7: RuntimeWarning: divide by zero encountered in log\n",
      "  equation = n * np.log(special.gamma((nu + 1)/2)) + n* nu *0.5 * np.log(nu) - n * np.log(special.gamma(nu/2)) - 0.5*n*np.log(np.pi) - n * np.log(sigma) - 0.5 *(nu + 1)*np.sum(np.log(nu + ((true_Y - XB)/sigma)**2))\n",
      "/tmp/ipykernel_71/1964281503.py:7: RuntimeWarning: invalid value encountered in scalar multiply\n",
      "  equation = n * np.log(special.gamma((nu + 1)/2)) + n* nu *0.5 * np.log(nu) - n * np.log(special.gamma(nu/2)) - 0.5*n*np.log(np.pi) - n * np.log(sigma) - 0.5 *(nu + 1)*np.sum(np.log(nu + ((true_Y - XB)/sigma)**2))\n",
      "/tmp/ipykernel_71/1964281503.py:7: RuntimeWarning: invalid value encountered in log\n",
      "  equation = n * np.log(special.gamma((nu + 1)/2)) + n* nu *0.5 * np.log(nu) - n * np.log(special.gamma(nu/2)) - 0.5*n*np.log(np.pi) - n * np.log(sigma) - 0.5 *(nu + 1)*np.sum(np.log(nu + ((true_Y - XB)/sigma)**2))\n",
      "/tmp/ipykernel_71/1964281503.py:7: RuntimeWarning: invalid value encountered in log\n",
      "  equation = n * np.log(special.gamma((nu + 1)/2)) + n* nu *0.5 * np.log(nu) - n * np.log(special.gamma(nu/2)) - 0.5*n*np.log(np.pi) - n * np.log(sigma) - 0.5 *(nu + 1)*np.sum(np.log(nu + ((true_Y - XB)/sigma)**2))\n",
      "/tmp/ipykernel_71/1964281503.py:7: RuntimeWarning: invalid value encountered in log\n",
      "  equation = n * np.log(special.gamma((nu + 1)/2)) + n* nu *0.5 * np.log(nu) - n * np.log(special.gamma(nu/2)) - 0.5*n*np.log(np.pi) - n * np.log(sigma) - 0.5 *(nu + 1)*np.sum(np.log(nu + ((true_Y - XB)/sigma)**2))\n"
     ]
    },
    {
     "name": "stdout",
     "output_type": "stream",
     "text": [
      "The parameters giving the largest likelihood: [0.98536624 0.67204923 0.40009124 0.61678768 0.80376156 1.17711344], likelihood: 179.55656443047394\n"
     ]
    }
   ],
   "source": [
    "# Loop through different values of nu\n",
    "nu_values = range(100)  # Any desired range of nu values here\n",
    "best_likelihood = float('inf')\n",
    "best_parameters = None\n",
    "\n",
    "for nu in nu_values:\n",
    "    parameters, likelihood = optimize_over_nu(nu)\n",
    "    #print(f\"For nu={nu}, optimized parameters: {parameters}, likelihood: {likelihood}\")\n",
    "\n",
    "    # Update best parameters if likelihood is greater\n",
    "    if likelihood < best_likelihood:\n",
    "        best_likelihood = likelihood\n",
    "        best_parameters = parameters\n",
    "\n",
    "print(f\"The parameters giving the largest likelihood: {best_parameters}, likelihood: {best_likelihood}\")"
   ]
  },
  {
   "cell_type": "markdown",
   "id": "3b63e97a",
   "metadata": {},
   "source": [
    "# Task 6: Use Profile Likelihood (with MLE fitted) and Jeffery Prior estimate $\\nu$"
   ]
  },
  {
   "cell_type": "code",
   "execution_count": 439,
   "id": "89ecffaf",
   "metadata": {},
   "outputs": [],
   "source": [
    "intercept = 0.98536624\n",
    "beta_1 = 0.67204923\n",
    "beta_2 = 0.40009124\n",
    "beta_3 = 0.61678768\n",
    "beta_4 = 0.80376156\n",
    "sigma = 1.17711344\n",
    "\n",
    "mu = intercept + beta_1*x1 + beta_2*x2 + beta_3*x3 + beta_4*x4"
   ]
  },
  {
   "cell_type": "code",
   "execution_count": 440,
   "id": "11bf12f5",
   "metadata": {},
   "outputs": [
    {
     "name": "stderr",
     "output_type": "stream",
     "text": [
      "/opt/conda/lib/python3.11/site-packages/pytensor/tensor/rewriting/elemwise.py:701: UserWarning: Optimization Warning: The Op polygamma does not provide a C implementation. As well as being potentially slow, this also disables loop fusion.\n",
      "  warn(\n",
      "Auto-assigning NUTS sampler...\n",
      "Initializing NUTS using jitter+adapt_diag...\n",
      "/opt/conda/lib/python3.11/site-packages/pytensor/tensor/rewriting/elemwise.py:701: UserWarning: Optimization Warning: The Op polygamma does not provide a C implementation. As well as being potentially slow, this also disables loop fusion.\n",
      "  warn(\n",
      "Multiprocess sampling (4 chains in 4 jobs)\n",
      "NUTS: [nu]\n"
     ]
    },
    {
     "data": {
      "text/html": [
       "\n",
       "<style>\n",
       "    /* Turns off some styling */\n",
       "    progress {\n",
       "        /* gets rid of default border in Firefox and Opera. */\n",
       "        border: none;\n",
       "        /* Needs to be in here for Safari polyfill so background images work as expected. */\n",
       "        background-size: auto;\n",
       "    }\n",
       "    progress:not([value]), progress:not([value])::-webkit-progress-bar {\n",
       "        background: repeating-linear-gradient(45deg, #7e7e7e, #7e7e7e 10px, #5c5c5c 10px, #5c5c5c 20px);\n",
       "    }\n",
       "    .progress-bar-interrupted, .progress-bar-interrupted::-webkit-progress-bar {\n",
       "        background: #F44336;\n",
       "    }\n",
       "</style>\n"
      ],
      "text/plain": [
       "<IPython.core.display.HTML object>"
      ]
     },
     "metadata": {},
     "output_type": "display_data"
    },
    {
     "data": {
      "text/html": [
       "\n",
       "    <div>\n",
       "      <progress value='8000' class='' max='8000' style='width:300px; height:20px; vertical-align: middle;'></progress>\n",
       "      100.00% [8000/8000 00:01&lt;00:00 Sampling 4 chains, 33 divergences]\n",
       "    </div>\n",
       "    "
      ],
      "text/plain": [
       "<IPython.core.display.HTML object>"
      ]
     },
     "metadata": {},
     "output_type": "display_data"
    },
    {
     "name": "stderr",
     "output_type": "stream",
     "text": [
      "Sampling 4 chains for 1_000 tune and 1_000 draw iterations (4_000 + 4_000 draws total) took 2 seconds.\n",
      "The rhat statistic is larger than 1.01 for some parameters. This indicates problems during sampling. See https://arxiv.org/abs/1903.08008 for details\n",
      "There were 33 divergences after tuning. Increase `target_accept` or reparameterize.\n"
     ]
    }
   ],
   "source": [
    "def logJeff(x):\n",
    "    return pt.log((x/(x+3))**(1/2)*(pt.polygamma(1,x/2) - pt.polygamma(1, (x+1)/2) - 2*(x+3)/(x*(x+1)**2))**(1/2))\n",
    "\n",
    "modelJeff_MLE = pm.Model()\n",
    "\n",
    "with modelJeff_MLE:\n",
    "    nu = pm.CustomDist('nu', logp=logJeff, initval = 1)\n",
    "\n",
    "    y = pm.StudentT('y', nu = nu, mu = mu, sigma = sigma, shape = 100, observed = true_Y)\n",
    "\n",
    "    idataJeff_MLE = pm.sample()"
   ]
  },
  {
   "cell_type": "code",
   "execution_count": 441,
   "id": "41b91bad",
   "metadata": {},
   "outputs": [
    {
     "name": "stdout",
     "output_type": "stream",
     "text": [
      "number of MCMC samples: 4000\n"
     ]
    },
    {
     "data": {
      "text/html": [
       "<div>\n",
       "<style scoped>\n",
       "    .dataframe tbody tr th:only-of-type {\n",
       "        vertical-align: middle;\n",
       "    }\n",
       "\n",
       "    .dataframe tbody tr th {\n",
       "        vertical-align: top;\n",
       "    }\n",
       "\n",
       "    .dataframe thead th {\n",
       "        text-align: right;\n",
       "    }\n",
       "</style>\n",
       "<table border=\"1\" class=\"dataframe\">\n",
       "  <thead>\n",
       "    <tr style=\"text-align: right;\">\n",
       "      <th></th>\n",
       "      <th>median</th>\n",
       "      <th>mad</th>\n",
       "      <th>eti_3%</th>\n",
       "      <th>eti_97%</th>\n",
       "      <th>mcse_median</th>\n",
       "      <th>ess_median</th>\n",
       "      <th>ess_tail</th>\n",
       "      <th>r_hat</th>\n",
       "    </tr>\n",
       "  </thead>\n",
       "  <tbody>\n",
       "    <tr>\n",
       "      <th>nu</th>\n",
       "      <td>4.63</td>\n",
       "      <td>1.01</td>\n",
       "      <td>2.66</td>\n",
       "      <td>9.22</td>\n",
       "      <td>0.06</td>\n",
       "      <td>1160.1</td>\n",
       "      <td>880.2</td>\n",
       "      <td>1.01</td>\n",
       "    </tr>\n",
       "  </tbody>\n",
       "</table>\n",
       "</div>"
      ],
      "text/plain": [
       "    median   mad  eti_3%  eti_97%  mcse_median  ess_median  ess_tail  r_hat\n",
       "nu    4.63  1.01    2.66     9.22         0.06      1160.1     880.2   1.01"
      ]
     },
     "execution_count": 441,
     "metadata": {},
     "output_type": "execute_result"
    }
   ],
   "source": [
    "print(\"number of MCMC samples:\", idataJeff_MLE.posterior['nu'].values.flatten().shape[-1])\n",
    "az.summary(idataJeff_MLE.posterior['nu'], stat_focus=\"median\", round_to=2)"
   ]
  },
  {
   "cell_type": "code",
   "execution_count": 442,
   "id": "bd9ed874",
   "metadata": {},
   "outputs": [
    {
     "name": "stderr",
     "output_type": "stream",
     "text": [
      "/opt/conda/lib/python3.11/site-packages/pytensor/tensor/rewriting/elemwise.py:701: UserWarning: Optimization Warning: The Op polygamma does not provide a C implementation. As well as being potentially slow, this also disables loop fusion.\n",
      "  warn(\n"
     ]
    },
    {
     "data": {
      "text/html": [
       "\n",
       "<style>\n",
       "    /* Turns off some styling */\n",
       "    progress {\n",
       "        /* gets rid of default border in Firefox and Opera. */\n",
       "        border: none;\n",
       "        /* Needs to be in here for Safari polyfill so background images work as expected. */\n",
       "        background-size: auto;\n",
       "    }\n",
       "    progress:not([value]), progress:not([value])::-webkit-progress-bar {\n",
       "        background: repeating-linear-gradient(45deg, #7e7e7e, #7e7e7e 10px, #5c5c5c 10px, #5c5c5c 20px);\n",
       "    }\n",
       "    .progress-bar-interrupted, .progress-bar-interrupted::-webkit-progress-bar {\n",
       "        background: #F44336;\n",
       "    }\n",
       "</style>\n"
      ],
      "text/plain": [
       "<IPython.core.display.HTML object>"
      ]
     },
     "metadata": {},
     "output_type": "display_data"
    },
    {
     "data": {
      "text/html": [
       "\n",
       "    <div>\n",
       "      <progress value='10' class='' max='10' style='width:300px; height:20px; vertical-align: middle;'></progress>\n",
       "      100.00% [10/10 00:00&lt;00:00 logp = -196.51, ||grad|| = 23.692]\n",
       "    </div>\n",
       "    "
      ],
      "text/plain": [
       "<IPython.core.display.HTML object>"
      ]
     },
     "metadata": {},
     "output_type": "display_data"
    },
    {
     "name": "stdout",
     "output_type": "stream",
     "text": [
      "\n",
      "4.030831329363366\n"
     ]
    }
   ],
   "source": [
    "with modelJeff_MLE:\n",
    "    map_est_Jeff_MLE = pm.find_MAP()\n",
    "print(map_est_Jeff_MLE['nu'])"
   ]
  },
  {
   "cell_type": "markdown",
   "id": "b5b5a28c",
   "metadata": {},
   "source": [
    "# Task 5: Reference priors"
   ]
  },
  {
   "cell_type": "markdown",
   "id": "69506c75",
   "metadata": {},
   "source": [
    "## What is Ordering\n",
    "\n",
    "BERGER, J. O., & BERNARDO, J. M. (1992). Ordered group reference priors with application to the multinomial problem. Biometrika, 79(1), 25–37. https://doi.org/10.1093/biomet/79.1.25\n",
    "\n",
    "Wang, M., & Yang, M. (2016). Posterior property of Student-t linear regression model using objective priors. Statistics & Probability Letters, 113, 23–29. https://doi.org/10.1016/j.spl.2016.02.003\n",
    "\n",
    "- 'parameters of interest' and 'nuisance parameters\n",
    "- multiplying Fisher's information matrix in different order gives different joint distribution"
   ]
  },
  {
   "cell_type": "code",
   "execution_count": 402,
   "id": "c6d0142d",
   "metadata": {},
   "outputs": [],
   "source": [
    "# sample data\n",
    "x1 = stats.norm(loc = 0, scale = 1).rvs(100)\n",
    "x2 = stats.norm(loc = 0, scale = 1).rvs(100)\n",
    "x3 = stats.norm(loc = 0, scale = 1).rvs(100)\n",
    "x4 = stats.norm(loc = 0, scale = 1).rvs(100)\n",
    "\n",
    "n = 100\n",
    "\n",
    "true_xb = 1 + x1*1 + 0.3*x2 + 0.9*x3 + 1*x4\n",
    "true_nu = 1\n",
    "hyper_sigma = math.sqrt(1.5)\n",
    "\n",
    "true_Y= stats.t.rvs(df=true_nu, loc=true_xb, scale=hyper_sigma, random_state=None)"
   ]
  },
  {
   "cell_type": "code",
   "execution_count": 268,
   "id": "78e210be",
   "metadata": {},
   "outputs": [],
   "source": [
    "# Define square root delta functions\n",
    "\n",
    "def sqrtdelta1(x):\n",
    "    return (pt.polygamma(1,x/2) - pt.polygamma(1, (x+1)/2) - 2*(x+5)/(x*(x+1)*(x+3)))**(1/2)\n",
    "\n",
    "def sqrtdelta2(x):\n",
    "    return (pt.polygamma(1,x/2) - pt.polygamma(1, (x+1)/2) - 2*(x+3)/(x*(x+1)**2))**(1/2)"
   ]
  },
  {
   "cell_type": "code",
   "execution_count": 269,
   "id": "e2d4c978",
   "metadata": {},
   "outputs": [
    {
     "name": "stderr",
     "output_type": "stream",
     "text": [
      "/opt/conda/lib/python3.11/site-packages/pytensor/tensor/rewriting/elemwise.py:701: UserWarning: Optimization Warning: The Op polygamma does not provide a C implementation. As well as being potentially slow, this also disables loop fusion.\n",
      "  warn(\n",
      "Auto-assigning NUTS sampler...\n",
      "Initializing NUTS using jitter+adapt_diag...\n",
      "/opt/conda/lib/python3.11/site-packages/pytensor/tensor/rewriting/elemwise.py:701: UserWarning: Optimization Warning: The Op polygamma does not provide a C implementation. As well as being potentially slow, this also disables loop fusion.\n",
      "  warn(\n",
      "Multiprocess sampling (4 chains in 4 jobs)\n",
      "NUTS: [nu, sigma, intercept, beta_1, beta_2, beta_3, beta_4]\n"
     ]
    },
    {
     "data": {
      "text/html": [
       "\n",
       "<style>\n",
       "    /* Turns off some styling */\n",
       "    progress {\n",
       "        /* gets rid of default border in Firefox and Opera. */\n",
       "        border: none;\n",
       "        /* Needs to be in here for Safari polyfill so background images work as expected. */\n",
       "        background-size: auto;\n",
       "    }\n",
       "    progress:not([value]), progress:not([value])::-webkit-progress-bar {\n",
       "        background: repeating-linear-gradient(45deg, #7e7e7e, #7e7e7e 10px, #5c5c5c 10px, #5c5c5c 20px);\n",
       "    }\n",
       "    .progress-bar-interrupted, .progress-bar-interrupted::-webkit-progress-bar {\n",
       "        background: #F44336;\n",
       "    }\n",
       "</style>\n"
      ],
      "text/plain": [
       "<IPython.core.display.HTML object>"
      ]
     },
     "metadata": {},
     "output_type": "display_data"
    },
    {
     "data": {
      "text/html": [
       "\n",
       "    <div>\n",
       "      <progress value='8000' class='' max='8000' style='width:300px; height:20px; vertical-align: middle;'></progress>\n",
       "      100.00% [8000/8000 00:08&lt;00:00 Sampling 4 chains, 199 divergences]\n",
       "    </div>\n",
       "    "
      ],
      "text/plain": [
       "<IPython.core.display.HTML object>"
      ]
     },
     "metadata": {},
     "output_type": "display_data"
    },
    {
     "name": "stderr",
     "output_type": "stream",
     "text": [
      "Sampling 4 chains for 1_000 tune and 1_000 draw iterations (4_000 + 4_000 draws total) took 9 seconds.\n",
      "There were 199 divergences after tuning. Increase `target_accept` or reparameterize.\n"
     ]
    }
   ],
   "source": [
    "## 1. R1\n",
    "\n",
    "def r1sigma(x):\n",
    "    return pt.log(sqrtdelta1(x))\n",
    "\n",
    "\n",
    "model_r1 = pm.Model()\n",
    "\n",
    "with model_r1:\n",
    "    nu = pm.CustomDist('nu', logp=r1sigma, initval = 1)\n",
    "    \n",
    "    sigma = pm.CustomDist('sigma',logp=logsig, initval = 1)\n",
    "    \n",
    "    intercept = pm.Flat('intercept')\n",
    "    beta_1 = pm.Flat('beta_1')\n",
    "    beta_2 = pm.Flat('beta_2')\n",
    "    beta_3 = pm.Flat('beta_3')\n",
    "    beta_4 = pm.Flat('beta_4')\n",
    "    \n",
    "    mu = pm.Deterministic('mu', intercept + beta_1*x1 + beta_2*x2 + beta_3*x3 + beta_4*x4)\n",
    "\n",
    "    ### Changed to a T distribution ###\n",
    "    y = pm.StudentT('y', nu = nu, mu = mu, sigma = sigma, shape = n, observed = true_Y)\n",
    "\n",
    "    idata_r1 = pm.sample()"
   ]
  },
  {
   "cell_type": "code",
   "execution_count": 270,
   "id": "588e779e",
   "metadata": {},
   "outputs": [
    {
     "name": "stderr",
     "output_type": "stream",
     "text": [
      "/opt/conda/lib/python3.11/site-packages/pytensor/tensor/rewriting/elemwise.py:701: UserWarning: Optimization Warning: The Op polygamma does not provide a C implementation. As well as being potentially slow, this also disables loop fusion.\n",
      "  warn(\n",
      "Auto-assigning NUTS sampler...\n",
      "Initializing NUTS using jitter+adapt_diag...\n",
      "/opt/conda/lib/python3.11/site-packages/pytensor/tensor/rewriting/elemwise.py:701: UserWarning: Optimization Warning: The Op polygamma does not provide a C implementation. As well as being potentially slow, this also disables loop fusion.\n",
      "  warn(\n",
      "Multiprocess sampling (4 chains in 4 jobs)\n",
      "NUTS: [nu, sigma, intercept, beta_1, beta_2, beta_3, beta_4]\n"
     ]
    },
    {
     "data": {
      "text/html": [
       "\n",
       "<style>\n",
       "    /* Turns off some styling */\n",
       "    progress {\n",
       "        /* gets rid of default border in Firefox and Opera. */\n",
       "        border: none;\n",
       "        /* Needs to be in here for Safari polyfill so background images work as expected. */\n",
       "        background-size: auto;\n",
       "    }\n",
       "    progress:not([value]), progress:not([value])::-webkit-progress-bar {\n",
       "        background: repeating-linear-gradient(45deg, #7e7e7e, #7e7e7e 10px, #5c5c5c 10px, #5c5c5c 20px);\n",
       "    }\n",
       "    .progress-bar-interrupted, .progress-bar-interrupted::-webkit-progress-bar {\n",
       "        background: #F44336;\n",
       "    }\n",
       "</style>\n"
      ],
      "text/plain": [
       "<IPython.core.display.HTML object>"
      ]
     },
     "metadata": {},
     "output_type": "display_data"
    },
    {
     "data": {
      "text/html": [
       "\n",
       "    <div>\n",
       "      <progress value='8000' class='' max='8000' style='width:300px; height:20px; vertical-align: middle;'></progress>\n",
       "      100.00% [8000/8000 00:06&lt;00:00 Sampling 4 chains, 106 divergences]\n",
       "    </div>\n",
       "    "
      ],
      "text/plain": [
       "<IPython.core.display.HTML object>"
      ]
     },
     "metadata": {},
     "output_type": "display_data"
    },
    {
     "name": "stderr",
     "output_type": "stream",
     "text": [
      "Sampling 4 chains for 1_000 tune and 1_000 draw iterations (4_000 + 4_000 draws total) took 7 seconds.\n",
      "There were 106 divergences after tuning. Increase `target_accept` or reparameterize.\n"
     ]
    }
   ],
   "source": [
    "## 2. R2\n",
    "\n",
    "def r2sigma(x):\n",
    "    return pt.log(sqrtdelta2(x))\n",
    "\n",
    "\n",
    "model_r2 = pm.Model()\n",
    "\n",
    "with model_r2:\n",
    "    nu = pm.CustomDist('nu', logp=r2sigma, initval = 1)\n",
    "    \n",
    "    sigma = pm.CustomDist('sigma',logp=logsig, initval = 1)\n",
    "    \n",
    "    intercept = pm.Flat('intercept')\n",
    "    beta_1 = pm.Flat('beta_1')\n",
    "    beta_2 = pm.Flat('beta_2')\n",
    "    beta_3 = pm.Flat('beta_3')\n",
    "    beta_4 = pm.Flat('beta_4')\n",
    "    \n",
    "    mu = pm.Deterministic('mu', intercept + beta_1*x1 + beta_2*x2 + beta_3*x3 + beta_4*x4)\n",
    "\n",
    "    ### Changed to a T distribution ###\n",
    "    y = pm.StudentT('y', nu = nu, mu = mu, sigma = sigma, shape = n, observed = true_Y)\n",
    "\n",
    "    idata_r2 = pm.sample()"
   ]
  },
  {
   "cell_type": "code",
   "execution_count": 271,
   "id": "abcb5c2f",
   "metadata": {},
   "outputs": [
    {
     "name": "stderr",
     "output_type": "stream",
     "text": [
      "/opt/conda/lib/python3.11/site-packages/pytensor/tensor/rewriting/elemwise.py:701: UserWarning: Optimization Warning: The Op polygamma does not provide a C implementation. As well as being potentially slow, this also disables loop fusion.\n",
      "  warn(\n",
      "Auto-assigning NUTS sampler...\n",
      "Initializing NUTS using jitter+adapt_diag...\n",
      "/opt/conda/lib/python3.11/site-packages/pytensor/tensor/rewriting/elemwise.py:701: UserWarning: Optimization Warning: The Op polygamma does not provide a C implementation. As well as being potentially slow, this also disables loop fusion.\n",
      "  warn(\n",
      "Multiprocess sampling (4 chains in 4 jobs)\n",
      "NUTS: [nu, sigma, intercept, beta_1, beta_2, beta_3, beta_4]\n"
     ]
    },
    {
     "data": {
      "text/html": [
       "\n",
       "<style>\n",
       "    /* Turns off some styling */\n",
       "    progress {\n",
       "        /* gets rid of default border in Firefox and Opera. */\n",
       "        border: none;\n",
       "        /* Needs to be in here for Safari polyfill so background images work as expected. */\n",
       "        background-size: auto;\n",
       "    }\n",
       "    progress:not([value]), progress:not([value])::-webkit-progress-bar {\n",
       "        background: repeating-linear-gradient(45deg, #7e7e7e, #7e7e7e 10px, #5c5c5c 10px, #5c5c5c 20px);\n",
       "    }\n",
       "    .progress-bar-interrupted, .progress-bar-interrupted::-webkit-progress-bar {\n",
       "        background: #F44336;\n",
       "    }\n",
       "</style>\n"
      ],
      "text/plain": [
       "<IPython.core.display.HTML object>"
      ]
     },
     "metadata": {},
     "output_type": "display_data"
    },
    {
     "data": {
      "text/html": [
       "\n",
       "    <div>\n",
       "      <progress value='8000' class='' max='8000' style='width:300px; height:20px; vertical-align: middle;'></progress>\n",
       "      100.00% [8000/8000 00:07&lt;00:00 Sampling 4 chains, 1,040 divergences]\n",
       "    </div>\n",
       "    "
      ],
      "text/plain": [
       "<IPython.core.display.HTML object>"
      ]
     },
     "metadata": {},
     "output_type": "display_data"
    },
    {
     "name": "stderr",
     "output_type": "stream",
     "text": [
      "Sampling 4 chains for 1_000 tune and 1_000 draw iterations (4_000 + 4_000 draws total) took 8 seconds.\n",
      "The rhat statistic is larger than 1.01 for some parameters. This indicates problems during sampling. See https://arxiv.org/abs/1903.08008 for details\n",
      "The effective sample size per chain is smaller than 100 for some parameters.  A higher number is needed for reliable rhat and ess computation. See https://arxiv.org/abs/1903.08008 for details\n",
      "There were 1040 divergences after tuning. Increase `target_accept` or reparameterize.\n"
     ]
    }
   ],
   "source": [
    "## 3. R3\n",
    "\n",
    "p = 5\n",
    "\n",
    "def r3sigma(x):\n",
    "    return pt.log(((x+1)/(x+3))**(p/2)*sqrtdelta1(x))\n",
    "\n",
    "\n",
    "model_r3 = pm.Model()\n",
    "\n",
    "with model_r3:\n",
    "    nu = pm.CustomDist('nu', logp=r3sigma, initval = 1)\n",
    "    \n",
    "    sigma = pm.CustomDist('sigma',logp=logsig, initval = 1)\n",
    "    \n",
    "    intercept = pm.Flat('intercept')\n",
    "    beta_1 = pm.Flat('beta_1')\n",
    "    beta_2 = pm.Flat('beta_2')\n",
    "    beta_3 = pm.Flat('beta_3')\n",
    "    beta_4 = pm.Flat('beta_4')\n",
    "    \n",
    "    mu = pm.Deterministic('mu', intercept + beta_1*x1 + beta_2*x2 + beta_3*x3 + beta_4*x4)\n",
    "\n",
    "    ### Changed to a T distribution ###\n",
    "    y = pm.StudentT('y', nu = nu, mu = mu, sigma = sigma, shape = n, observed = true_Y)\n",
    "\n",
    "    idata_r3 = pm.sample()"
   ]
  },
  {
   "cell_type": "code",
   "execution_count": 272,
   "id": "351d86a3",
   "metadata": {},
   "outputs": [
    {
     "name": "stderr",
     "output_type": "stream",
     "text": [
      "/opt/conda/lib/python3.11/site-packages/pytensor/tensor/rewriting/elemwise.py:701: UserWarning: Optimization Warning: The Op polygamma does not provide a C implementation. As well as being potentially slow, this also disables loop fusion.\n",
      "  warn(\n",
      "Auto-assigning NUTS sampler...\n",
      "Initializing NUTS using jitter+adapt_diag...\n",
      "/opt/conda/lib/python3.11/site-packages/pytensor/tensor/rewriting/elemwise.py:701: UserWarning: Optimization Warning: The Op polygamma does not provide a C implementation. As well as being potentially slow, this also disables loop fusion.\n",
      "  warn(\n",
      "Multiprocess sampling (4 chains in 4 jobs)\n",
      "NUTS: [nu, sigma, intercept, beta_1, beta_2, beta_3, beta_4]\n"
     ]
    },
    {
     "data": {
      "text/html": [
       "\n",
       "<style>\n",
       "    /* Turns off some styling */\n",
       "    progress {\n",
       "        /* gets rid of default border in Firefox and Opera. */\n",
       "        border: none;\n",
       "        /* Needs to be in here for Safari polyfill so background images work as expected. */\n",
       "        background-size: auto;\n",
       "    }\n",
       "    progress:not([value]), progress:not([value])::-webkit-progress-bar {\n",
       "        background: repeating-linear-gradient(45deg, #7e7e7e, #7e7e7e 10px, #5c5c5c 10px, #5c5c5c 20px);\n",
       "    }\n",
       "    .progress-bar-interrupted, .progress-bar-interrupted::-webkit-progress-bar {\n",
       "        background: #F44336;\n",
       "    }\n",
       "</style>\n"
      ],
      "text/plain": [
       "<IPython.core.display.HTML object>"
      ]
     },
     "metadata": {},
     "output_type": "display_data"
    },
    {
     "data": {
      "text/html": [
       "\n",
       "    <div>\n",
       "      <progress value='8000' class='' max='8000' style='width:300px; height:20px; vertical-align: middle;'></progress>\n",
       "      100.00% [8000/8000 00:08&lt;00:00 Sampling 4 chains, 278 divergences]\n",
       "    </div>\n",
       "    "
      ],
      "text/plain": [
       "<IPython.core.display.HTML object>"
      ]
     },
     "metadata": {},
     "output_type": "display_data"
    },
    {
     "name": "stderr",
     "output_type": "stream",
     "text": [
      "Sampling 4 chains for 1_000 tune and 1_000 draw iterations (4_000 + 4_000 draws total) took 8 seconds.\n",
      "There were 278 divergences after tuning. Increase `target_accept` or reparameterize.\n"
     ]
    }
   ],
   "source": [
    "## 4. R4\n",
    "\n",
    "p = 5\n",
    "\n",
    "def r4sigma(x):\n",
    "    return pt.log(((x+1)/(x+3))**(p/2)*sqrtdelta2(x))\n",
    "\n",
    "\n",
    "model_r4 = pm.Model()\n",
    "\n",
    "with model_r4:\n",
    "    nu = pm.CustomDist('nu', logp=r4sigma, initval = 1)\n",
    "    \n",
    "    sigma = pm.CustomDist('sigma',logp=logsig, initval = 1)\n",
    "    \n",
    "    intercept = pm.Flat('intercept')\n",
    "    beta_1 = pm.Flat('beta_1')\n",
    "    beta_2 = pm.Flat('beta_2')\n",
    "    beta_3 = pm.Flat('beta_3')\n",
    "    beta_4 = pm.Flat('beta_4')\n",
    "    \n",
    "    mu = pm.Deterministic('mu', intercept + beta_1*x1 + beta_2*x2 + beta_3*x3 + beta_4*x4)\n",
    "\n",
    "    ### Changed to a T distribution ###\n",
    "    y = pm.StudentT('y', nu = nu, mu = mu, sigma = sigma, shape = n, observed = true_Y)\n",
    "\n",
    "    idata_r4 = pm.sample()"
   ]
  },
  {
   "cell_type": "code",
   "execution_count": 273,
   "id": "d5652eac",
   "metadata": {},
   "outputs": [
    {
     "name": "stderr",
     "output_type": "stream",
     "text": [
      "/opt/conda/lib/python3.11/site-packages/pytensor/tensor/rewriting/elemwise.py:701: UserWarning: Optimization Warning: The Op polygamma does not provide a C implementation. As well as being potentially slow, this also disables loop fusion.\n",
      "  warn(\n",
      "Auto-assigning NUTS sampler...\n",
      "Initializing NUTS using jitter+adapt_diag...\n",
      "/opt/conda/lib/python3.11/site-packages/pytensor/tensor/rewriting/elemwise.py:701: UserWarning: Optimization Warning: The Op polygamma does not provide a C implementation. As well as being potentially slow, this also disables loop fusion.\n",
      "  warn(\n",
      "Multiprocess sampling (4 chains in 4 jobs)\n",
      "NUTS: [nu, sigma, intercept, beta_1, beta_2, beta_3, beta_4]\n"
     ]
    },
    {
     "data": {
      "text/html": [
       "\n",
       "<style>\n",
       "    /* Turns off some styling */\n",
       "    progress {\n",
       "        /* gets rid of default border in Firefox and Opera. */\n",
       "        border: none;\n",
       "        /* Needs to be in here for Safari polyfill so background images work as expected. */\n",
       "        background-size: auto;\n",
       "    }\n",
       "    progress:not([value]), progress:not([value])::-webkit-progress-bar {\n",
       "        background: repeating-linear-gradient(45deg, #7e7e7e, #7e7e7e 10px, #5c5c5c 10px, #5c5c5c 20px);\n",
       "    }\n",
       "    .progress-bar-interrupted, .progress-bar-interrupted::-webkit-progress-bar {\n",
       "        background: #F44336;\n",
       "    }\n",
       "</style>\n"
      ],
      "text/plain": [
       "<IPython.core.display.HTML object>"
      ]
     },
     "metadata": {},
     "output_type": "display_data"
    },
    {
     "data": {
      "text/html": [
       "\n",
       "    <div>\n",
       "      <progress value='8000' class='' max='8000' style='width:300px; height:20px; vertical-align: middle;'></progress>\n",
       "      100.00% [8000/8000 00:07&lt;00:00 Sampling 4 chains, 169 divergences]\n",
       "    </div>\n",
       "    "
      ],
      "text/plain": [
       "<IPython.core.display.HTML object>"
      ]
     },
     "metadata": {},
     "output_type": "display_data"
    },
    {
     "name": "stderr",
     "output_type": "stream",
     "text": [
      "Sampling 4 chains for 1_000 tune and 1_000 draw iterations (4_000 + 4_000 draws total) took 7 seconds.\n",
      "There were 169 divergences after tuning. Increase `target_accept` or reparameterize.\n"
     ]
    }
   ],
   "source": [
    "## 5. R5\n",
    "\n",
    "p = 5\n",
    "\n",
    "def psigma(x):\n",
    "    return -(p+1)*np.log(x)\n",
    "\n",
    "model_r5 = pm.Model()\n",
    "\n",
    "with model_r5:\n",
    "    nu = pm.CustomDist('nu', logp=r2sigma, initval = 1)\n",
    "    \n",
    "    sigma = pm.CustomDist('sigma',logp=psigma, initval = 1)\n",
    "    \n",
    "    intercept = pm.Flat('intercept')\n",
    "    beta_1 = pm.Flat('beta_1')\n",
    "    beta_2 = pm.Flat('beta_2')\n",
    "    beta_3 = pm.Flat('beta_3')\n",
    "    beta_4 = pm.Flat('beta_4')\n",
    "    \n",
    "    mu = pm.Deterministic('mu', intercept + beta_1*x1 + beta_2*x2 + beta_3*x3 + beta_4*x4)\n",
    "\n",
    "    ### Changed to a T distribution ###\n",
    "    y = pm.StudentT('y', nu = nu, mu = mu, sigma = sigma, shape = n, observed = true_Y)\n",
    "\n",
    "    idata_r5 = pm.sample()"
   ]
  },
  {
   "cell_type": "code",
   "execution_count": 274,
   "id": "e18398fa",
   "metadata": {},
   "outputs": [
    {
     "name": "stderr",
     "output_type": "stream",
     "text": [
      "/opt/conda/lib/python3.11/site-packages/pytensor/tensor/rewriting/elemwise.py:701: UserWarning: Optimization Warning: The Op polygamma does not provide a C implementation. As well as being potentially slow, this also disables loop fusion.\n",
      "  warn(\n",
      "Auto-assigning NUTS sampler...\n",
      "Initializing NUTS using jitter+adapt_diag...\n",
      "/opt/conda/lib/python3.11/site-packages/pytensor/tensor/rewriting/elemwise.py:701: UserWarning: Optimization Warning: The Op polygamma does not provide a C implementation. As well as being potentially slow, this also disables loop fusion.\n",
      "  warn(\n",
      "Multiprocess sampling (4 chains in 4 jobs)\n",
      "NUTS: [nu, sigma, intercept, beta_1, beta_2, beta_3, beta_4]\n"
     ]
    },
    {
     "data": {
      "text/html": [
       "\n",
       "<style>\n",
       "    /* Turns off some styling */\n",
       "    progress {\n",
       "        /* gets rid of default border in Firefox and Opera. */\n",
       "        border: none;\n",
       "        /* Needs to be in here for Safari polyfill so background images work as expected. */\n",
       "        background-size: auto;\n",
       "    }\n",
       "    progress:not([value]), progress:not([value])::-webkit-progress-bar {\n",
       "        background: repeating-linear-gradient(45deg, #7e7e7e, #7e7e7e 10px, #5c5c5c 10px, #5c5c5c 20px);\n",
       "    }\n",
       "    .progress-bar-interrupted, .progress-bar-interrupted::-webkit-progress-bar {\n",
       "        background: #F44336;\n",
       "    }\n",
       "</style>\n"
      ],
      "text/plain": [
       "<IPython.core.display.HTML object>"
      ]
     },
     "metadata": {},
     "output_type": "display_data"
    },
    {
     "data": {
      "text/html": [
       "\n",
       "    <div>\n",
       "      <progress value='8000' class='' max='8000' style='width:300px; height:20px; vertical-align: middle;'></progress>\n",
       "      100.00% [8000/8000 00:07&lt;00:00 Sampling 4 chains, 29 divergences]\n",
       "    </div>\n",
       "    "
      ],
      "text/plain": [
       "<IPython.core.display.HTML object>"
      ]
     },
     "metadata": {},
     "output_type": "display_data"
    },
    {
     "name": "stderr",
     "output_type": "stream",
     "text": [
      "Sampling 4 chains for 1_000 tune and 1_000 draw iterations (4_000 + 4_000 draws total) took 7 seconds.\n",
      "There were 29 divergences after tuning. Increase `target_accept` or reparameterize.\n"
     ]
    }
   ],
   "source": [
    "## 6. R6\n",
    "\n",
    "p = 5\n",
    "\n",
    "model_r6 = pm.Model()\n",
    "\n",
    "with model_r6:\n",
    "    nu = pm.CustomDist('nu', logp=r1sigma, initval = 1)\n",
    "    \n",
    "    sigma = pm.CustomDist('sigma',logp=psigma, initval = 1)\n",
    "    \n",
    "    intercept = pm.Flat('intercept')\n",
    "    beta_1 = pm.Flat('beta_1')\n",
    "    beta_2 = pm.Flat('beta_2')\n",
    "    beta_3 = pm.Flat('beta_3')\n",
    "    beta_4 = pm.Flat('beta_4')\n",
    "    \n",
    "    mu = pm.Deterministic('mu', intercept + beta_1*x1 + beta_2*x2 + beta_3*x3 + beta_4*x4)\n",
    "\n",
    "    ### Changed to a T distribution ###\n",
    "    y = pm.StudentT('y', nu = nu, mu = mu, sigma = sigma, shape = n, observed = true_Y)\n",
    "\n",
    "    idata_r6 = pm.sample()"
   ]
  },
  {
   "cell_type": "code",
   "execution_count": 275,
   "id": "0ae9feb2",
   "metadata": {},
   "outputs": [
    {
     "name": "stderr",
     "output_type": "stream",
     "text": [
      "/opt/conda/lib/python3.11/site-packages/pytensor/tensor/rewriting/elemwise.py:701: UserWarning: Optimization Warning: The Op polygamma does not provide a C implementation. As well as being potentially slow, this also disables loop fusion.\n",
      "  warn(\n",
      "Auto-assigning NUTS sampler...\n",
      "Initializing NUTS using jitter+adapt_diag...\n",
      "/opt/conda/lib/python3.11/site-packages/pytensor/tensor/rewriting/elemwise.py:701: UserWarning: Optimization Warning: The Op polygamma does not provide a C implementation. As well as being potentially slow, this also disables loop fusion.\n",
      "  warn(\n",
      "Multiprocess sampling (4 chains in 4 jobs)\n",
      "NUTS: [nu, sigma, intercept, beta_1, beta_2, beta_3, beta_4]\n"
     ]
    },
    {
     "data": {
      "text/html": [
       "\n",
       "<style>\n",
       "    /* Turns off some styling */\n",
       "    progress {\n",
       "        /* gets rid of default border in Firefox and Opera. */\n",
       "        border: none;\n",
       "        /* Needs to be in here for Safari polyfill so background images work as expected. */\n",
       "        background-size: auto;\n",
       "    }\n",
       "    progress:not([value]), progress:not([value])::-webkit-progress-bar {\n",
       "        background: repeating-linear-gradient(45deg, #7e7e7e, #7e7e7e 10px, #5c5c5c 10px, #5c5c5c 20px);\n",
       "    }\n",
       "    .progress-bar-interrupted, .progress-bar-interrupted::-webkit-progress-bar {\n",
       "        background: #F44336;\n",
       "    }\n",
       "</style>\n"
      ],
      "text/plain": [
       "<IPython.core.display.HTML object>"
      ]
     },
     "metadata": {},
     "output_type": "display_data"
    },
    {
     "data": {
      "text/html": [
       "\n",
       "    <div>\n",
       "      <progress value='8000' class='' max='8000' style='width:300px; height:20px; vertical-align: middle;'></progress>\n",
       "      100.00% [8000/8000 00:07&lt;00:00 Sampling 4 chains, 72 divergences]\n",
       "    </div>\n",
       "    "
      ],
      "text/plain": [
       "<IPython.core.display.HTML object>"
      ]
     },
     "metadata": {},
     "output_type": "display_data"
    },
    {
     "name": "stderr",
     "output_type": "stream",
     "text": [
      "Sampling 4 chains for 1_000 tune and 1_000 draw iterations (4_000 + 4_000 draws total) took 8 seconds.\n",
      "The rhat statistic is larger than 1.01 for some parameters. This indicates problems during sampling. See https://arxiv.org/abs/1903.08008 for details\n",
      "The effective sample size per chain is smaller than 100 for some parameters.  A higher number is needed for reliable rhat and ess computation. See https://arxiv.org/abs/1903.08008 for details\n",
      "There were 72 divergences after tuning. Increase `target_accept` or reparameterize.\n"
     ]
    }
   ],
   "source": [
    "def logJeff(x):\n",
    "    return pt.log((x/(x+3))**(1/2)*(pt.polygamma(1,x/2) - pt.polygamma(1, (x+1)/2) - 2*(x+3)/(x*(x+1)**2))**(1/2))\n",
    "\n",
    "modelJeff = pm.Model()\n",
    "\n",
    "with modelJeff:\n",
    "    nu = pm.CustomDist('nu', logp=logJeff, initval = 1)\n",
    "    \n",
    "    sigma = pm.CustomDist('sigma',logp=logsig, initval = 1)\n",
    "    \n",
    "    intercept = pm.Flat('intercept')\n",
    "    beta_1 = pm.Flat('beta_1')\n",
    "    beta_2 = pm.Flat('beta_2')\n",
    "    beta_3 = pm.Flat('beta_3')\n",
    "    beta_4 = pm.Flat('beta_4')\n",
    "    \n",
    "    \n",
    "    mu = pm.Deterministic('mu', intercept + beta_1*x1 + beta_2*x2 + beta_3*x3 + beta_4*x4)\n",
    "\n",
    "    ### Changed to a T distribution ###\n",
    "    y = pm.StudentT('y', nu = nu, mu = mu, sigma = sigma, shape = 100, observed = true_Y)\n",
    "\n",
    "    idataJeff = pm.sample()"
   ]
  },
  {
   "cell_type": "markdown",
   "id": "65715629",
   "metadata": {},
   "source": [
    "## Posterior median"
   ]
  },
  {
   "cell_type": "code",
   "execution_count": 276,
   "id": "9ad3e017",
   "metadata": {},
   "outputs": [
    {
     "name": "stdout",
     "output_type": "stream",
     "text": [
      "number of MCMC samples: 4000\n"
     ]
    },
    {
     "data": {
      "text/html": [
       "<div>\n",
       "<style scoped>\n",
       "    .dataframe tbody tr th:only-of-type {\n",
       "        vertical-align: middle;\n",
       "    }\n",
       "\n",
       "    .dataframe tbody tr th {\n",
       "        vertical-align: top;\n",
       "    }\n",
       "\n",
       "    .dataframe thead th {\n",
       "        text-align: right;\n",
       "    }\n",
       "</style>\n",
       "<table border=\"1\" class=\"dataframe\">\n",
       "  <thead>\n",
       "    <tr style=\"text-align: right;\">\n",
       "      <th></th>\n",
       "      <th>median</th>\n",
       "      <th>mad</th>\n",
       "      <th>eti_3%</th>\n",
       "      <th>eti_97%</th>\n",
       "      <th>mcse_median</th>\n",
       "      <th>ess_median</th>\n",
       "      <th>ess_tail</th>\n",
       "      <th>r_hat</th>\n",
       "    </tr>\n",
       "  </thead>\n",
       "  <tbody>\n",
       "    <tr>\n",
       "      <th>nu</th>\n",
       "      <td>4.34</td>\n",
       "      <td>1.31</td>\n",
       "      <td>2.15</td>\n",
       "      <td>15.18</td>\n",
       "      <td>0.07</td>\n",
       "      <td>1870.97</td>\n",
       "      <td>811.83</td>\n",
       "      <td>1.0</td>\n",
       "    </tr>\n",
       "  </tbody>\n",
       "</table>\n",
       "</div>"
      ],
      "text/plain": [
       "    median   mad  eti_3%  eti_97%  mcse_median  ess_median  ess_tail  r_hat\n",
       "nu    4.34  1.31    2.15    15.18         0.07     1870.97    811.83    1.0"
      ]
     },
     "execution_count": 276,
     "metadata": {},
     "output_type": "execute_result"
    }
   ],
   "source": [
    "print(\"number of MCMC samples:\", idata_r1.posterior['nu'].values.flatten().shape[-1])\n",
    "az.summary(idata_r1.posterior['nu'], stat_focus=\"median\", round_to=2)"
   ]
  },
  {
   "cell_type": "code",
   "execution_count": 277,
   "id": "e25c2332",
   "metadata": {},
   "outputs": [
    {
     "name": "stdout",
     "output_type": "stream",
     "text": [
      "number of MCMC samples: 4000\n"
     ]
    },
    {
     "data": {
      "text/html": [
       "<div>\n",
       "<style scoped>\n",
       "    .dataframe tbody tr th:only-of-type {\n",
       "        vertical-align: middle;\n",
       "    }\n",
       "\n",
       "    .dataframe tbody tr th {\n",
       "        vertical-align: top;\n",
       "    }\n",
       "\n",
       "    .dataframe thead th {\n",
       "        text-align: right;\n",
       "    }\n",
       "</style>\n",
       "<table border=\"1\" class=\"dataframe\">\n",
       "  <thead>\n",
       "    <tr style=\"text-align: right;\">\n",
       "      <th></th>\n",
       "      <th>median</th>\n",
       "      <th>mad</th>\n",
       "      <th>eti_3%</th>\n",
       "      <th>eti_97%</th>\n",
       "      <th>mcse_median</th>\n",
       "      <th>ess_median</th>\n",
       "      <th>ess_tail</th>\n",
       "      <th>r_hat</th>\n",
       "    </tr>\n",
       "  </thead>\n",
       "  <tbody>\n",
       "    <tr>\n",
       "      <th>nu</th>\n",
       "      <td>4.32</td>\n",
       "      <td>1.36</td>\n",
       "      <td>2.08</td>\n",
       "      <td>16.04</td>\n",
       "      <td>0.06</td>\n",
       "      <td>1418.25</td>\n",
       "      <td>480.96</td>\n",
       "      <td>1.0</td>\n",
       "    </tr>\n",
       "  </tbody>\n",
       "</table>\n",
       "</div>"
      ],
      "text/plain": [
       "    median   mad  eti_3%  eti_97%  mcse_median  ess_median  ess_tail  r_hat\n",
       "nu    4.32  1.36    2.08    16.04         0.06     1418.25    480.96    1.0"
      ]
     },
     "execution_count": 277,
     "metadata": {},
     "output_type": "execute_result"
    }
   ],
   "source": [
    "print(\"number of MCMC samples:\", idata_r2.posterior['nu'].values.flatten().shape[-1])\n",
    "az.summary(idata_r2.posterior['nu'], stat_focus=\"median\", round_to=2)"
   ]
  },
  {
   "cell_type": "code",
   "execution_count": 278,
   "id": "83e53f01",
   "metadata": {},
   "outputs": [
    {
     "name": "stdout",
     "output_type": "stream",
     "text": [
      "number of MCMC samples: 4000\n"
     ]
    },
    {
     "data": {
      "text/html": [
       "<div>\n",
       "<style scoped>\n",
       "    .dataframe tbody tr th:only-of-type {\n",
       "        vertical-align: middle;\n",
       "    }\n",
       "\n",
       "    .dataframe tbody tr th {\n",
       "        vertical-align: top;\n",
       "    }\n",
       "\n",
       "    .dataframe thead th {\n",
       "        text-align: right;\n",
       "    }\n",
       "</style>\n",
       "<table border=\"1\" class=\"dataframe\">\n",
       "  <thead>\n",
       "    <tr style=\"text-align: right;\">\n",
       "      <th></th>\n",
       "      <th>median</th>\n",
       "      <th>mad</th>\n",
       "      <th>eti_3%</th>\n",
       "      <th>eti_97%</th>\n",
       "      <th>mcse_median</th>\n",
       "      <th>ess_median</th>\n",
       "      <th>ess_tail</th>\n",
       "      <th>r_hat</th>\n",
       "    </tr>\n",
       "  </thead>\n",
       "  <tbody>\n",
       "    <tr>\n",
       "      <th>nu</th>\n",
       "      <td>5.28</td>\n",
       "      <td>1.73</td>\n",
       "      <td>2.39</td>\n",
       "      <td>19.14</td>\n",
       "      <td>0.14</td>\n",
       "      <td>412.95</td>\n",
       "      <td>422.84</td>\n",
       "      <td>1.02</td>\n",
       "    </tr>\n",
       "  </tbody>\n",
       "</table>\n",
       "</div>"
      ],
      "text/plain": [
       "    median   mad  eti_3%  eti_97%  mcse_median  ess_median  ess_tail  r_hat\n",
       "nu    5.28  1.73    2.39    19.14         0.14      412.95    422.84   1.02"
      ]
     },
     "execution_count": 278,
     "metadata": {},
     "output_type": "execute_result"
    }
   ],
   "source": [
    "print(\"number of MCMC samples:\", idata_r3.posterior['nu'].values.flatten().shape[-1])\n",
    "az.summary(idata_r3.posterior['nu'], stat_focus=\"median\", round_to=2)\n"
   ]
  },
  {
   "cell_type": "code",
   "execution_count": 279,
   "id": "157fa15c",
   "metadata": {},
   "outputs": [
    {
     "name": "stdout",
     "output_type": "stream",
     "text": [
      "number of MCMC samples: 4000\n"
     ]
    },
    {
     "data": {
      "text/html": [
       "<div>\n",
       "<style scoped>\n",
       "    .dataframe tbody tr th:only-of-type {\n",
       "        vertical-align: middle;\n",
       "    }\n",
       "\n",
       "    .dataframe tbody tr th {\n",
       "        vertical-align: top;\n",
       "    }\n",
       "\n",
       "    .dataframe thead th {\n",
       "        text-align: right;\n",
       "    }\n",
       "</style>\n",
       "<table border=\"1\" class=\"dataframe\">\n",
       "  <thead>\n",
       "    <tr style=\"text-align: right;\">\n",
       "      <th></th>\n",
       "      <th>median</th>\n",
       "      <th>mad</th>\n",
       "      <th>eti_3%</th>\n",
       "      <th>eti_97%</th>\n",
       "      <th>mcse_median</th>\n",
       "      <th>ess_median</th>\n",
       "      <th>ess_tail</th>\n",
       "      <th>r_hat</th>\n",
       "    </tr>\n",
       "  </thead>\n",
       "  <tbody>\n",
       "    <tr>\n",
       "      <th>nu</th>\n",
       "      <td>4.92</td>\n",
       "      <td>1.64</td>\n",
       "      <td>2.29</td>\n",
       "      <td>22.19</td>\n",
       "      <td>0.1</td>\n",
       "      <td>1151.69</td>\n",
       "      <td>312.21</td>\n",
       "      <td>1.0</td>\n",
       "    </tr>\n",
       "  </tbody>\n",
       "</table>\n",
       "</div>"
      ],
      "text/plain": [
       "    median   mad  eti_3%  eti_97%  mcse_median  ess_median  ess_tail  r_hat\n",
       "nu    4.92  1.64    2.29    22.19          0.1     1151.69    312.21    1.0"
      ]
     },
     "execution_count": 279,
     "metadata": {},
     "output_type": "execute_result"
    }
   ],
   "source": [
    "print(\"number of MCMC samples:\", idata_r4.posterior['nu'].values.flatten().shape[-1])\n",
    "az.summary(idata_r4.posterior['nu'], stat_focus=\"median\", round_to=2)"
   ]
  },
  {
   "cell_type": "code",
   "execution_count": 280,
   "id": "2befa6ef",
   "metadata": {},
   "outputs": [
    {
     "name": "stdout",
     "output_type": "stream",
     "text": [
      "number of MCMC samples: 4000\n"
     ]
    },
    {
     "data": {
      "text/html": [
       "<div>\n",
       "<style scoped>\n",
       "    .dataframe tbody tr th:only-of-type {\n",
       "        vertical-align: middle;\n",
       "    }\n",
       "\n",
       "    .dataframe tbody tr th {\n",
       "        vertical-align: top;\n",
       "    }\n",
       "\n",
       "    .dataframe thead th {\n",
       "        text-align: right;\n",
       "    }\n",
       "</style>\n",
       "<table border=\"1\" class=\"dataframe\">\n",
       "  <thead>\n",
       "    <tr style=\"text-align: right;\">\n",
       "      <th></th>\n",
       "      <th>median</th>\n",
       "      <th>mad</th>\n",
       "      <th>eti_3%</th>\n",
       "      <th>eti_97%</th>\n",
       "      <th>mcse_median</th>\n",
       "      <th>ess_median</th>\n",
       "      <th>ess_tail</th>\n",
       "      <th>r_hat</th>\n",
       "    </tr>\n",
       "  </thead>\n",
       "  <tbody>\n",
       "    <tr>\n",
       "      <th>nu</th>\n",
       "      <td>3.45</td>\n",
       "      <td>0.93</td>\n",
       "      <td>1.8</td>\n",
       "      <td>10.09</td>\n",
       "      <td>0.05</td>\n",
       "      <td>1552.34</td>\n",
       "      <td>427.06</td>\n",
       "      <td>1.01</td>\n",
       "    </tr>\n",
       "  </tbody>\n",
       "</table>\n",
       "</div>"
      ],
      "text/plain": [
       "    median   mad  eti_3%  eti_97%  mcse_median  ess_median  ess_tail  r_hat\n",
       "nu    3.45  0.93     1.8    10.09         0.05     1552.34    427.06   1.01"
      ]
     },
     "execution_count": 280,
     "metadata": {},
     "output_type": "execute_result"
    }
   ],
   "source": [
    "print(\"number of MCMC samples:\", idata_r5.posterior['nu'].values.flatten().shape[-1])\n",
    "az.summary(idata_r5.posterior['nu'], stat_focus=\"median\", round_to=2)"
   ]
  },
  {
   "cell_type": "code",
   "execution_count": 281,
   "id": "e5140973",
   "metadata": {},
   "outputs": [
    {
     "name": "stdout",
     "output_type": "stream",
     "text": [
      "number of MCMC samples: 4000\n"
     ]
    },
    {
     "data": {
      "text/html": [
       "<div>\n",
       "<style scoped>\n",
       "    .dataframe tbody tr th:only-of-type {\n",
       "        vertical-align: middle;\n",
       "    }\n",
       "\n",
       "    .dataframe tbody tr th {\n",
       "        vertical-align: top;\n",
       "    }\n",
       "\n",
       "    .dataframe thead th {\n",
       "        text-align: right;\n",
       "    }\n",
       "</style>\n",
       "<table border=\"1\" class=\"dataframe\">\n",
       "  <thead>\n",
       "    <tr style=\"text-align: right;\">\n",
       "      <th></th>\n",
       "      <th>median</th>\n",
       "      <th>mad</th>\n",
       "      <th>eti_3%</th>\n",
       "      <th>eti_97%</th>\n",
       "      <th>mcse_median</th>\n",
       "      <th>ess_median</th>\n",
       "      <th>ess_tail</th>\n",
       "      <th>r_hat</th>\n",
       "    </tr>\n",
       "  </thead>\n",
       "  <tbody>\n",
       "    <tr>\n",
       "      <th>nu</th>\n",
       "      <td>3.59</td>\n",
       "      <td>1.01</td>\n",
       "      <td>1.82</td>\n",
       "      <td>11.44</td>\n",
       "      <td>0.05</td>\n",
       "      <td>1638.23</td>\n",
       "      <td>432.9</td>\n",
       "      <td>1.0</td>\n",
       "    </tr>\n",
       "  </tbody>\n",
       "</table>\n",
       "</div>"
      ],
      "text/plain": [
       "    median   mad  eti_3%  eti_97%  mcse_median  ess_median  ess_tail  r_hat\n",
       "nu    3.59  1.01    1.82    11.44         0.05     1638.23     432.9    1.0"
      ]
     },
     "execution_count": 281,
     "metadata": {},
     "output_type": "execute_result"
    }
   ],
   "source": [
    "print(\"number of MCMC samples:\", idata_r6.posterior['nu'].values.flatten().shape[-1])\n",
    "az.summary(idata_r6.posterior['nu'], stat_focus=\"median\", round_to=2)"
   ]
  },
  {
   "cell_type": "code",
   "execution_count": 282,
   "id": "e0b66e72",
   "metadata": {},
   "outputs": [
    {
     "name": "stdout",
     "output_type": "stream",
     "text": [
      "number of MCMC samples: 4000\n"
     ]
    },
    {
     "data": {
      "text/html": [
       "<div>\n",
       "<style scoped>\n",
       "    .dataframe tbody tr th:only-of-type {\n",
       "        vertical-align: middle;\n",
       "    }\n",
       "\n",
       "    .dataframe tbody tr th {\n",
       "        vertical-align: top;\n",
       "    }\n",
       "\n",
       "    .dataframe thead th {\n",
       "        text-align: right;\n",
       "    }\n",
       "</style>\n",
       "<table border=\"1\" class=\"dataframe\">\n",
       "  <thead>\n",
       "    <tr style=\"text-align: right;\">\n",
       "      <th></th>\n",
       "      <th>median</th>\n",
       "      <th>mad</th>\n",
       "      <th>eti_3%</th>\n",
       "      <th>eti_97%</th>\n",
       "      <th>mcse_median</th>\n",
       "      <th>ess_median</th>\n",
       "      <th>ess_tail</th>\n",
       "      <th>r_hat</th>\n",
       "    </tr>\n",
       "  </thead>\n",
       "  <tbody>\n",
       "    <tr>\n",
       "      <th>nu</th>\n",
       "      <td>4.38</td>\n",
       "      <td>1.43</td>\n",
       "      <td>1.8</td>\n",
       "      <td>15.41</td>\n",
       "      <td>0.08</td>\n",
       "      <td>979.39</td>\n",
       "      <td>75.86</td>\n",
       "      <td>1.01</td>\n",
       "    </tr>\n",
       "  </tbody>\n",
       "</table>\n",
       "</div>"
      ],
      "text/plain": [
       "    median   mad  eti_3%  eti_97%  mcse_median  ess_median  ess_tail  r_hat\n",
       "nu    4.38  1.43     1.8    15.41         0.08      979.39     75.86   1.01"
      ]
     },
     "execution_count": 282,
     "metadata": {},
     "output_type": "execute_result"
    }
   ],
   "source": [
    "print(\"number of MCMC samples:\", idataJeff.posterior['nu'].values.flatten().shape[-1])\n",
    "az.summary(idataJeff.posterior['nu'], stat_focus=\"median\", round_to=2)"
   ]
  },
  {
   "cell_type": "markdown",
   "id": "8b14f25f",
   "metadata": {},
   "source": [
    "## MAP"
   ]
  },
  {
   "cell_type": "code",
   "execution_count": 292,
   "id": "e1607845",
   "metadata": {},
   "outputs": [
    {
     "name": "stderr",
     "output_type": "stream",
     "text": [
      "/opt/conda/lib/python3.11/site-packages/pytensor/tensor/rewriting/elemwise.py:701: UserWarning: Optimization Warning: The Op polygamma does not provide a C implementation. As well as being potentially slow, this also disables loop fusion.\n",
      "  warn(\n"
     ]
    },
    {
     "data": {
      "text/html": [
       "\n",
       "<style>\n",
       "    /* Turns off some styling */\n",
       "    progress {\n",
       "        /* gets rid of default border in Firefox and Opera. */\n",
       "        border: none;\n",
       "        /* Needs to be in here for Safari polyfill so background images work as expected. */\n",
       "        background-size: auto;\n",
       "    }\n",
       "    progress:not([value]), progress:not([value])::-webkit-progress-bar {\n",
       "        background: repeating-linear-gradient(45deg, #7e7e7e, #7e7e7e 10px, #5c5c5c 10px, #5c5c5c 20px);\n",
       "    }\n",
       "    .progress-bar-interrupted, .progress-bar-interrupted::-webkit-progress-bar {\n",
       "        background: #F44336;\n",
       "    }\n",
       "</style>\n"
      ],
      "text/plain": [
       "<IPython.core.display.HTML object>"
      ]
     },
     "metadata": {},
     "output_type": "display_data"
    },
    {
     "data": {
      "text/html": [
       "\n",
       "    <div>\n",
       "      <progress value='17' class='' max='17' style='width:300px; height:20px; vertical-align: middle;'></progress>\n",
       "      100.00% [17/17 00:00&lt;00:00 logp = -203.13, ||grad|| = 2.7407]\n",
       "    </div>\n",
       "    "
      ],
      "text/plain": [
       "<IPython.core.display.HTML object>"
      ]
     },
     "metadata": {},
     "output_type": "display_data"
    },
    {
     "name": "stdout",
     "output_type": "stream",
     "text": [
      "\n",
      "3.128794866730754\n"
     ]
    }
   ],
   "source": [
    "with model_r1:\n",
    "    map_est_r1 = pm.find_MAP()\n",
    "print(map_est_r1['nu'])"
   ]
  },
  {
   "cell_type": "code",
   "execution_count": 293,
   "id": "afebe4ac",
   "metadata": {},
   "outputs": [
    {
     "name": "stderr",
     "output_type": "stream",
     "text": [
      "/opt/conda/lib/python3.11/site-packages/pytensor/tensor/rewriting/elemwise.py:701: UserWarning: Optimization Warning: The Op polygamma does not provide a C implementation. As well as being potentially slow, this also disables loop fusion.\n",
      "  warn(\n"
     ]
    },
    {
     "data": {
      "text/html": [
       "\n",
       "<style>\n",
       "    /* Turns off some styling */\n",
       "    progress {\n",
       "        /* gets rid of default border in Firefox and Opera. */\n",
       "        border: none;\n",
       "        /* Needs to be in here for Safari polyfill so background images work as expected. */\n",
       "        background-size: auto;\n",
       "    }\n",
       "    progress:not([value]), progress:not([value])::-webkit-progress-bar {\n",
       "        background: repeating-linear-gradient(45deg, #7e7e7e, #7e7e7e 10px, #5c5c5c 10px, #5c5c5c 20px);\n",
       "    }\n",
       "    .progress-bar-interrupted, .progress-bar-interrupted::-webkit-progress-bar {\n",
       "        background: #F44336;\n",
       "    }\n",
       "</style>\n"
      ],
      "text/plain": [
       "<IPython.core.display.HTML object>"
      ]
     },
     "metadata": {},
     "output_type": "display_data"
    },
    {
     "data": {
      "text/html": [
       "\n",
       "    <div>\n",
       "      <progress value='17' class='' max='17' style='width:300px; height:20px; vertical-align: middle;'></progress>\n",
       "      100.00% [17/17 00:00&lt;00:00 logp = -203.4, ||grad|| = 2.7494]\n",
       "    </div>\n",
       "    "
      ],
      "text/plain": [
       "<IPython.core.display.HTML object>"
      ]
     },
     "metadata": {},
     "output_type": "display_data"
    },
    {
     "name": "stdout",
     "output_type": "stream",
     "text": [
      "\n",
      "3.090151871725406\n"
     ]
    }
   ],
   "source": [
    "with model_r2:\n",
    "    map_est_r2 = pm.find_MAP()\n",
    "print(map_est_r2['nu'])"
   ]
  },
  {
   "cell_type": "code",
   "execution_count": 294,
   "id": "1beac0c0",
   "metadata": {},
   "outputs": [
    {
     "name": "stderr",
     "output_type": "stream",
     "text": [
      "/opt/conda/lib/python3.11/site-packages/pytensor/tensor/rewriting/elemwise.py:701: UserWarning: Optimization Warning: The Op polygamma does not provide a C implementation. As well as being potentially slow, this also disables loop fusion.\n",
      "  warn(\n"
     ]
    },
    {
     "data": {
      "text/html": [
       "\n",
       "<style>\n",
       "    /* Turns off some styling */\n",
       "    progress {\n",
       "        /* gets rid of default border in Firefox and Opera. */\n",
       "        border: none;\n",
       "        /* Needs to be in here for Safari polyfill so background images work as expected. */\n",
       "        background-size: auto;\n",
       "    }\n",
       "    progress:not([value]), progress:not([value])::-webkit-progress-bar {\n",
       "        background: repeating-linear-gradient(45deg, #7e7e7e, #7e7e7e 10px, #5c5c5c 10px, #5c5c5c 20px);\n",
       "    }\n",
       "    .progress-bar-interrupted, .progress-bar-interrupted::-webkit-progress-bar {\n",
       "        background: #F44336;\n",
       "    }\n",
       "</style>\n"
      ],
      "text/plain": [
       "<IPython.core.display.HTML object>"
      ]
     },
     "metadata": {},
     "output_type": "display_data"
    },
    {
     "data": {
      "text/html": [
       "\n",
       "    <div>\n",
       "      <progress value='16' class='' max='16' style='width:300px; height:20px; vertical-align: middle;'></progress>\n",
       "      100.00% [16/16 00:00&lt;00:00 logp = -204.08, ||grad|| = 2.4338]\n",
       "    </div>\n",
       "    "
      ],
      "text/plain": [
       "<IPython.core.display.HTML object>"
      ]
     },
     "metadata": {},
     "output_type": "display_data"
    },
    {
     "name": "stdout",
     "output_type": "stream",
     "text": [
      "\n",
      "3.4212955995536185\n"
     ]
    }
   ],
   "source": [
    "with model_r3:\n",
    "    map_est_r3 = pm.find_MAP()\n",
    "print(map_est_r3['nu'])"
   ]
  },
  {
   "cell_type": "code",
   "execution_count": 295,
   "id": "3857ddcf",
   "metadata": {},
   "outputs": [
    {
     "name": "stderr",
     "output_type": "stream",
     "text": [
      "/opt/conda/lib/python3.11/site-packages/pytensor/tensor/rewriting/elemwise.py:701: UserWarning: Optimization Warning: The Op polygamma does not provide a C implementation. As well as being potentially slow, this also disables loop fusion.\n",
      "  warn(\n"
     ]
    },
    {
     "data": {
      "text/html": [
       "\n",
       "<style>\n",
       "    /* Turns off some styling */\n",
       "    progress {\n",
       "        /* gets rid of default border in Firefox and Opera. */\n",
       "        border: none;\n",
       "        /* Needs to be in here for Safari polyfill so background images work as expected. */\n",
       "        background-size: auto;\n",
       "    }\n",
       "    progress:not([value]), progress:not([value])::-webkit-progress-bar {\n",
       "        background: repeating-linear-gradient(45deg, #7e7e7e, #7e7e7e 10px, #5c5c5c 10px, #5c5c5c 20px);\n",
       "    }\n",
       "    .progress-bar-interrupted, .progress-bar-interrupted::-webkit-progress-bar {\n",
       "        background: #F44336;\n",
       "    }\n",
       "</style>\n"
      ],
      "text/plain": [
       "<IPython.core.display.HTML object>"
      ]
     },
     "metadata": {},
     "output_type": "display_data"
    },
    {
     "data": {
      "text/html": [
       "\n",
       "    <div>\n",
       "      <progress value='16' class='' max='16' style='width:300px; height:20px; vertical-align: middle;'></progress>\n",
       "      100.00% [16/16 00:00&lt;00:00 logp = -204.36, ||grad|| = 2.4848]\n",
       "    </div>\n",
       "    "
      ],
      "text/plain": [
       "<IPython.core.display.HTML object>"
      ]
     },
     "metadata": {},
     "output_type": "display_data"
    },
    {
     "name": "stdout",
     "output_type": "stream",
     "text": [
      "\n",
      "3.376193930111923\n"
     ]
    }
   ],
   "source": [
    "with model_r4:\n",
    "    map_est_r4 = pm.find_MAP()\n",
    "print(map_est_r4['nu'])"
   ]
  },
  {
   "cell_type": "code",
   "execution_count": 296,
   "id": "be840942",
   "metadata": {},
   "outputs": [
    {
     "name": "stderr",
     "output_type": "stream",
     "text": [
      "/opt/conda/lib/python3.11/site-packages/pytensor/tensor/rewriting/elemwise.py:701: UserWarning: Optimization Warning: The Op polygamma does not provide a C implementation. As well as being potentially slow, this also disables loop fusion.\n",
      "  warn(\n"
     ]
    },
    {
     "data": {
      "text/html": [
       "\n",
       "<style>\n",
       "    /* Turns off some styling */\n",
       "    progress {\n",
       "        /* gets rid of default border in Firefox and Opera. */\n",
       "        border: none;\n",
       "        /* Needs to be in here for Safari polyfill so background images work as expected. */\n",
       "        background-size: auto;\n",
       "    }\n",
       "    progress:not([value]), progress:not([value])::-webkit-progress-bar {\n",
       "        background: repeating-linear-gradient(45deg, #7e7e7e, #7e7e7e 10px, #5c5c5c 10px, #5c5c5c 20px);\n",
       "    }\n",
       "    .progress-bar-interrupted, .progress-bar-interrupted::-webkit-progress-bar {\n",
       "        background: #F44336;\n",
       "    }\n",
       "</style>\n"
      ],
      "text/plain": [
       "<IPython.core.display.HTML object>"
      ]
     },
     "metadata": {},
     "output_type": "display_data"
    },
    {
     "data": {
      "text/html": [
       "\n",
       "    <div>\n",
       "      <progress value='15' class='' max='15' style='width:300px; height:20px; vertical-align: middle;'></progress>\n",
       "      100.00% [15/15 00:00&lt;00:00 logp = -204.42, ||grad|| = 0.34006]\n",
       "    </div>\n",
       "    "
      ],
      "text/plain": [
       "<IPython.core.display.HTML object>"
      ]
     },
     "metadata": {},
     "output_type": "display_data"
    },
    {
     "name": "stdout",
     "output_type": "stream",
     "text": [
      "\n",
      "2.590546644108015\n"
     ]
    }
   ],
   "source": [
    "with model_r5:\n",
    "    map_est_r5 = pm.find_MAP()\n",
    "print(map_est_r5['nu'])"
   ]
  },
  {
   "cell_type": "code",
   "execution_count": 291,
   "id": "dc9db9e5",
   "metadata": {},
   "outputs": [
    {
     "name": "stderr",
     "output_type": "stream",
     "text": [
      "/opt/conda/lib/python3.11/site-packages/pytensor/tensor/rewriting/elemwise.py:701: UserWarning: Optimization Warning: The Op polygamma does not provide a C implementation. As well as being potentially slow, this also disables loop fusion.\n",
      "  warn(\n"
     ]
    },
    {
     "data": {
      "text/html": [
       "\n",
       "<style>\n",
       "    /* Turns off some styling */\n",
       "    progress {\n",
       "        /* gets rid of default border in Firefox and Opera. */\n",
       "        border: none;\n",
       "        /* Needs to be in here for Safari polyfill so background images work as expected. */\n",
       "        background-size: auto;\n",
       "    }\n",
       "    progress:not([value]), progress:not([value])::-webkit-progress-bar {\n",
       "        background: repeating-linear-gradient(45deg, #7e7e7e, #7e7e7e 10px, #5c5c5c 10px, #5c5c5c 20px);\n",
       "    }\n",
       "    .progress-bar-interrupted, .progress-bar-interrupted::-webkit-progress-bar {\n",
       "        background: #F44336;\n",
       "    }\n",
       "</style>\n"
      ],
      "text/plain": [
       "<IPython.core.display.HTML object>"
      ]
     },
     "metadata": {},
     "output_type": "display_data"
    },
    {
     "data": {
      "text/html": [
       "\n",
       "    <div>\n",
       "      <progress value='15' class='' max='15' style='width:300px; height:20px; vertical-align: middle;'></progress>\n",
       "      100.00% [15/15 00:00&lt;00:00 logp = -204.17, ||grad|| = 0.34903]\n",
       "    </div>\n",
       "    "
      ],
      "text/plain": [
       "<IPython.core.display.HTML object>"
      ]
     },
     "metadata": {},
     "output_type": "display_data"
    },
    {
     "name": "stdout",
     "output_type": "stream",
     "text": [
      "\n",
      "2.6209153948222395\n"
     ]
    }
   ],
   "source": [
    "with model_r6:\n",
    "    map_est_r6 = pm.find_MAP()\n",
    "print(map_est_r6['nu'])"
   ]
  },
  {
   "cell_type": "code",
   "execution_count": null,
   "id": "a07067ac",
   "metadata": {},
   "outputs": [],
   "source": [
    "with modelJeff:\n",
    "    map_est_Jeff = pm.find_MAP()\n",
    "print(map_est_Jeff['nu'])"
   ]
  }
 ],
 "metadata": {
  "kernelspec": {
   "display_name": "Python 3 (ipykernel)",
   "language": "python",
   "name": "python3"
  },
  "language_info": {
   "codemirror_mode": {
    "name": "ipython",
    "version": 3
   },
   "file_extension": ".py",
   "mimetype": "text/x-python",
   "name": "python",
   "nbconvert_exporter": "python",
   "pygments_lexer": "ipython3",
   "version": "3.11.6"
  }
 },
 "nbformat": 4,
 "nbformat_minor": 5
}
