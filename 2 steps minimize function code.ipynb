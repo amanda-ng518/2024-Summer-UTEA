{
 "cells": [
  {
   "cell_type": "code",
   "execution_count": 94,
   "id": "3f697ec9",
   "metadata": {},
   "outputs": [],
   "source": [
    "# Load package\n",
    "import numpy as np; from scipy import stats; import matplotlib.pyplot as plt; import pymc as pm;import arviz as az; \n",
    "import math; import pandas as pd\n",
    "from scipy.optimize import minimize\n",
    "from scipy import special\n",
    "import pytensor.tensor as pt\n",
    "import matplotlib.pyplot as plt\n",
    "from sklearn.linear_model import LinearRegression"
   ]
  },
  {
   "cell_type": "markdown",
   "id": "ad6db98b",
   "metadata": {},
   "source": [
    "# Generate Data"
   ]
  },
  {
   "cell_type": "code",
   "execution_count": 95,
   "id": "0177f972",
   "metadata": {},
   "outputs": [],
   "source": [
    "def generate_Corr_identity(p):\n",
    "    Sigma = np.zeros((p-1, p-1))\n",
    "    np.fill_diagonal(Sigma, 1)\n",
    "    return Sigma\n",
    "\n",
    "def generate_data(n, p, sigma_sqr, beta, nu, corr):\n",
    "\n",
    "    beta = beta.reshape((p, 1))\n",
    "    x_i = np.random.normal(0, 1, (n, p - 1))\n",
    "    x_i_correlated = x_i @ corr\n",
    "    ones = np.ones((n, 1))\n",
    "    x_i_full =  np.concatenate((ones, x_i_correlated), axis=1)\n",
    "    XB = x_i_full @ beta\n",
    "    E = stats.t.rvs(df = nu, loc=0, scale= np.sqrt(sigma_sqr), size=(n, 1))\n",
    "    Y = XB + E\n",
    "    return Y, x_i_full"
   ]
  },
  {
   "cell_type": "code",
   "execution_count": 96,
   "id": "9ead01ff",
   "metadata": {},
   "outputs": [],
   "source": [
    "p = 5 #number of betas\n",
    "beta = np.array([2, 1, 0.3, 0.9, 1])\n",
    "n = 50\n",
    "nu_origin = 5\n",
    "sigma_sqr = 1.5\n",
    "corr = generate_Corr_identity(p)  \n",
    "y, X = generate_data(n, p, sigma_sqr, beta, nu_origin, corr)"
   ]
  },
  {
   "cell_type": "markdown",
   "id": "d1120512",
   "metadata": {},
   "source": [
    "# Step 0: Obtain the expression for the log-likelihood"
   ]
  },
  {
   "cell_type": "code",
   "execution_count": 97,
   "id": "62278b4a",
   "metadata": {},
   "outputs": [],
   "source": [
    "def negative_log_likelihood_optimize_beta_sigma(params, nu):\n",
    "    \"\"\"\n",
    "    Negative log likelihood that will be passed into minimize function for given nu\n",
    "    The use of it is to get the numerical result of beta and sigma\n",
    "    :param params: contains beta and sigma as one vector, dim = p + 1\n",
    "    :param nu: Degree of freedom\n",
    "    :param X: Data matrix\n",
    "    :param y: Observed Value\n",
    "    :return: The negative log likelihood equation (2) in Fonseca 2008\n",
    "    \"\"\"\n",
    "\n",
    "    betas, sigma = params[:-1], params[-1]\n",
    "    sigma = np.abs(sigma) # Archer note: I simply let sigma to be its absolute value because it is symmetric.\n",
    "    p = X.shape[1]\n",
    "    B = np.reshape(betas, (p, 1))\n",
    "    XB = X @ B\n",
    "    n = X.shape[0]\n",
    "    XB = XB.reshape((n, 1))\n",
    "    # loglikelihood\n",
    "    equation = n * np.log(special.gamma((nu + 1)/2)) + n* nu *0.5 * np.log(nu) - n * np.log(special.gamma(nu/2)) - 0.5*n*np.log(np.pi) - n * np.log(sigma) - 0.5 *(nu + 1)*np.sum(np.log(nu + ((y - XB)/sigma)**2))\n",
    "    return -equation"
   ]
  },
  {
   "cell_type": "markdown",
   "id": "baacedff",
   "metadata": {},
   "source": [
    "# Step 1: Compute the conditional MLE λ and profile likelihood value for each fixed ν"
   ]
  },
  {
   "cell_type": "code",
   "execution_count": 98,
   "id": "062d0848",
   "metadata": {},
   "outputs": [],
   "source": [
    "def initial_guess_from_lin_reg(x_without_1, y,nu_origin):\n",
    "    initial_guess = []\n",
    "\n",
    "    model = LinearRegression().fit(x_without_1, y)\n",
    "    # intercept\n",
    "    initial_guess.append(model.intercept_.item()) # Archer note: I modify the code to avoid py printing error.\n",
    "    # coeff\n",
    "    for coeff in model.coef_[0]:\n",
    "        initial_guess.append(coeff)\n",
    "    # sigma_sq\n",
    "    y_pred = model.predict(x_without_1)\n",
    "    residual_sq = (((y - y_pred)**2).sum())/(n-2)\n",
    "    initial_guess.append(residual_sq)\n",
    "\n",
    "    return initial_guess"
   ]
  },
  {
   "cell_type": "code",
   "execution_count": 99,
   "id": "73bfb97d",
   "metadata": {},
   "outputs": [],
   "source": [
    "def conditional_MLE(log_nu): \n",
    "    nu = np.exp(log_nu)\n",
    "\n",
    "    p = X.shape[1]\n",
    "    x_without_1 = X[:, 1:]\n",
    "    initial_guess = initial_guess_from_lin_reg(x_without_1, y,nu_origin)\n",
    "    result = minimize(negative_log_likelihood_optimize_beta_sigma, initial_guess, args=(nu,), method='BFGS', options={'gtol': 1e-5, 'maxiter': 10000, 'norm':np.inf}) \n",
    "    \n",
    "    return result.x"
   ]
  },
  {
   "cell_type": "code",
   "execution_count": 100,
   "id": "3e16a71c",
   "metadata": {},
   "outputs": [],
   "source": [
    "def negative_profile_loglikelihood(log_nu): \n",
    "    nu = np.exp(log_nu)\n",
    "\n",
    "    p = X.shape[1]\n",
    "    x_without_1 = X[:, 1:]\n",
    "    initial_guess = initial_guess_from_lin_reg(x_without_1, y,nu_origin)\n",
    "    result = minimize(negative_log_likelihood_optimize_beta_sigma, initial_guess, args=(nu,), method='BFGS', options={'gtol': 1e-5, 'maxiter': 10000, 'norm':np.inf}) \n",
    "\n",
    "    if result.success == False:\n",
    "        return(1e8) \n",
    "    else:\n",
    "        return result.fun "
   ]
  },
  {
   "cell_type": "markdown",
   "id": "9b2c35b7",
   "metadata": {},
   "source": [
    "# Step 2: Compute the observed Fisher information matrix"
   ]
  },
  {
   "cell_type": "code",
   "execution_count": 101,
   "id": "3ac7dce2",
   "metadata": {},
   "outputs": [],
   "source": [
    "# Note that these are second derivatives of NEGATIVE log likelihood, we will fix it in the determinant code\n",
    "def Hessian_beta_sigma(beta, sigma, nu, X, y):\n",
    "    \"\"\"\n",
    "    The Hessian matrix of the negative log likelihood function\n",
    "    :param beta: Coefficients\n",
    "    :param sigma: Scale\n",
    "    :param nu: Degree of freedom\n",
    "    :param X: Data Matrix\n",
    "    :param y: Observed Value\n",
    "    :return: Hessian Matrix of beta and sigma on the log likelihood function, equation (2) Fonseca 2008\n",
    "    \"\"\"\n",
    "    p = X.shape[1]\n",
    "    n = X.shape[0]\n",
    "    beta = np.array(beta)\n",
    "    sigma = np.array(sigma)\n",
    "    total_b2 = 0\n",
    "    total_b_sigma = 0\n",
    "    total_sigma_b = 0\n",
    "    total_s2 = 0\n",
    "    for i in range(n):\n",
    "        Xi = np.reshape(X[i,:], (p, 1))\n",
    "        residual = y[i] - X[i, :] @ beta\n",
    "        nu_sigma_sqr_plus_residual =  nu*(sigma**2)+ residual**2\n",
    "        total_b2 = total_b2 + (- (nu_sigma_sqr_plus_residual)* np.outer(X[i,:],X[i, :]) + np.outer(X[i, :], X[i, :])*2*(residual**2))/(nu_sigma_sqr_plus_residual**2)\n",
    "        #total_b_sigma = total_b_sigma + (- nu_sigma_sqr_plus_residual*2 * residual * X[i,:] + 2*(residual**3 )*X[i,:]) / (nu_sigma_sqr_plus_residual**2)\n",
    "        total_sigma_b = total_sigma_b + (-2*nu*sigma*X[i,:]*residual)/(nu_sigma_sqr_plus_residual**2)\n",
    "        total_s2 = total_s2+ (-(residual**2) * 2* nu ) / ( (nu_sigma_sqr_plus_residual**2)) - 2*(residual**2)/(nu_sigma_sqr_plus_residual* (sigma**2))\n",
    "\n",
    "    db2 = total_b2 * (nu+1)\n",
    "    #dbs = total_b_sigma * (nu+1)/sigma\n",
    "    dsb = total_sigma_b * (nu+1)\n",
    "    dbs = dsb\n",
    "    ds2 = n/(sigma**2) + (nu+1)*total_s2\n",
    "\n",
    "    hessian = np.zeros((p + 1, p + 1))\n",
    "    hessian[:p, :p] = db2\n",
    "    hessian[:p, p] = dbs\n",
    "    hessian[p, :p] = dsb\n",
    "    hessian[p, p] = ds2\n",
    "\n",
    "    return hessian"
   ]
  },
  {
   "cell_type": "markdown",
   "id": "d50585d4",
   "metadata": {},
   "source": [
    "# Step 3: Find the block of j(ν, λ) corresponding to the insurance parameters λ = (β, σ)."
   ]
  },
  {
   "cell_type": "code",
   "execution_count": 102,
   "id": "0fa8bb6d",
   "metadata": {},
   "outputs": [],
   "source": [
    "def obs_block_det(beta, sigma, nu, X, y):\n",
    "    \n",
    "    block = np.array(Hessian_beta_sigma(beta, sigma, nu, X, y))* -1 \n",
    "    # need to multiply all entries by -1 as we were on negative scale\n",
    "    \n",
    "    return np.linalg.det(block)"
   ]
  },
  {
   "cell_type": "markdown",
   "id": "c20ede10",
   "metadata": {},
   "source": [
    "# Step 4: Plug λˆν you found in Step 1 to the block matrix j(ν, λ) in Step 4, to get j(ν, λˆ ν).\n",
    "# Step 5: Adjusted profile log-likelihood function"
   ]
  },
  {
   "cell_type": "code",
   "execution_count": 103,
   "id": "6457d632",
   "metadata": {},
   "outputs": [],
   "source": [
    "def negative_adj_profile_loglikelihood(log_nu):\n",
    "    nu = np.exp(log_nu)\n",
    "    \n",
    "    sigma = conditional_MLE(log_nu)[-1]\n",
    "    beta = conditional_MLE(log_nu)[:-1]\n",
    "    p = X.shape[1]\n",
    "    B = np.reshape(beta, (p, 1))\n",
    "    XB = X @ B\n",
    "    n = X.shape[0]\n",
    "    XB = XB.reshape((n, 1))\n",
    "    det = obs_block_det(beta, sigma, nu, X, y)\n",
    "\n",
    "    negative_adj_profile_loglikelihood = negative_profile_loglikelihood(log_nu) + 0.5*np.log(abs(det))\n",
    "    return negative_adj_profile_loglikelihood"
   ]
  },
  {
   "cell_type": "code",
   "execution_count": 104,
   "id": "935466ca",
   "metadata": {},
   "outputs": [
    {
     "name": "stdout",
     "output_type": "stream",
     "text": [
      "[5.79196731]\n",
      "True\n"
     ]
    }
   ],
   "source": [
    "initial_log_nu = np.log(nu_origin)\n",
    "adj_profile_optim = minimize(negative_adj_profile_loglikelihood,initial_log_nu,method='Nelder-Mead', options={'maxiter': 10000})\n",
    "\n",
    "print(np.exp(adj_profile_optim.x))\n",
    "print(adj_profile_optim.success)"
   ]
  }
 ],
 "metadata": {
  "kernelspec": {
   "display_name": "Python 3 (ipykernel)",
   "language": "python",
   "name": "python3"
  },
  "language_info": {
   "codemirror_mode": {
    "name": "ipython",
    "version": 3
   },
   "file_extension": ".py",
   "mimetype": "text/x-python",
   "name": "python",
   "nbconvert_exporter": "python",
   "pygments_lexer": "ipython3",
   "version": "3.11.6"
  }
 },
 "nbformat": 4,
 "nbformat_minor": 5
}
